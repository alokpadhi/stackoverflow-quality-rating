{
 "cells": [
  {
   "cell_type": "code",
   "execution_count": 1,
   "id": "02c9c1aa-dcbf-4f70-a073-dd9a3cc1641e",
   "metadata": {},
   "outputs": [
    {
     "name": "stdout",
     "output_type": "stream",
     "text": [
      "Looking in indexes: https://pypi.org/simple, https://pypi.ngc.nvidia.com\n",
      "Requirement already satisfied: seaborn in /opt/conda/lib/python3.8/site-packages (0.11.2)\n",
      "Requirement already satisfied: scipy>=1.0 in /opt/conda/lib/python3.8/site-packages (from seaborn) (1.6.3)\n",
      "Requirement already satisfied: numpy>=1.15 in /opt/conda/lib/python3.8/site-packages (from seaborn) (1.22.2)\n",
      "Requirement already satisfied: pandas>=0.23 in /opt/conda/lib/python3.8/site-packages (from seaborn) (1.3.5)\n",
      "Requirement already satisfied: matplotlib>=2.2 in /opt/conda/lib/python3.8/site-packages (from seaborn) (3.5.1)\n",
      "Requirement already satisfied: fonttools>=4.22.0 in /opt/conda/lib/python3.8/site-packages (from matplotlib>=2.2->seaborn) (4.29.1)\n",
      "Requirement already satisfied: cycler>=0.10 in /opt/conda/lib/python3.8/site-packages (from matplotlib>=2.2->seaborn) (0.11.0)\n",
      "Requirement already satisfied: pillow>=6.2.0 in /opt/conda/lib/python3.8/site-packages (from matplotlib>=2.2->seaborn) (9.0.0)\n",
      "Requirement already satisfied: pyparsing>=2.2.1 in /opt/conda/lib/python3.8/site-packages (from matplotlib>=2.2->seaborn) (3.0.7)\n",
      "Requirement already satisfied: python-dateutil>=2.7 in /opt/conda/lib/python3.8/site-packages (from matplotlib>=2.2->seaborn) (2.8.2)\n",
      "Requirement already satisfied: kiwisolver>=1.0.1 in /opt/conda/lib/python3.8/site-packages (from matplotlib>=2.2->seaborn) (1.4.3)\n",
      "Requirement already satisfied: packaging>=20.0 in /opt/conda/lib/python3.8/site-packages (from matplotlib>=2.2->seaborn) (21.3)\n",
      "Requirement already satisfied: pytz>=2017.3 in /opt/conda/lib/python3.8/site-packages (from pandas>=0.23->seaborn) (2021.3)\n",
      "Requirement already satisfied: six>=1.5 in /opt/conda/lib/python3.8/site-packages (from python-dateutil>=2.7->matplotlib>=2.2->seaborn) (1.16.0)\n",
      "\u001b[33mWARNING: Running pip as the 'root' user can result in broken permissions and conflicting behaviour with the system package manager. It is recommended to use a virtual environment instead: https://pip.pypa.io/warnings/venv\u001b[0m\n",
      "Note: you may need to restart the kernel to use updated packages.\n"
     ]
    }
   ],
   "source": [
    "%pip install seaborn"
   ]
  },
  {
   "cell_type": "code",
   "execution_count": 2,
   "id": "5504b341-0410-4cf8-92fa-77dc8e8cc907",
   "metadata": {},
   "outputs": [
    {
     "name": "stdout",
     "output_type": "stream",
     "text": [
      "Looking in indexes: https://pypi.org/simple, https://pypi.ngc.nvidia.com\n",
      "Requirement already satisfied: wandb in /opt/conda/lib/python3.8/site-packages (0.12.19)\n",
      "Requirement already satisfied: six>=1.13.0 in /opt/conda/lib/python3.8/site-packages (from wandb) (1.16.0)\n",
      "Requirement already satisfied: shortuuid>=0.5.0 in /opt/conda/lib/python3.8/site-packages (from wandb) (1.0.9)\n",
      "Requirement already satisfied: setproctitle in /opt/conda/lib/python3.8/site-packages (from wandb) (1.2.3)\n",
      "Requirement already satisfied: requests<3,>=2.0.0 in /opt/conda/lib/python3.8/site-packages (from wandb) (2.26.0)\n",
      "Requirement already satisfied: GitPython>=1.0.0 in /opt/conda/lib/python3.8/site-packages (from wandb) (3.1.27)\n",
      "Requirement already satisfied: docker-pycreds>=0.4.0 in /opt/conda/lib/python3.8/site-packages (from wandb) (0.4.0)\n",
      "Requirement already satisfied: promise<3,>=2.0 in /opt/conda/lib/python3.8/site-packages (from wandb) (2.3)\n",
      "Requirement already satisfied: psutil>=5.0.0 in /opt/conda/lib/python3.8/site-packages (from wandb) (5.9.0)\n",
      "Requirement already satisfied: sentry-sdk>=1.0.0 in /opt/conda/lib/python3.8/site-packages (from wandb) (1.6.0)\n",
      "Requirement already satisfied: PyYAML in /opt/conda/lib/python3.8/site-packages (from wandb) (5.4.1)\n",
      "Requirement already satisfied: Click!=8.0.0,>=7.0 in /opt/conda/lib/python3.8/site-packages (from wandb) (8.0.3)\n",
      "Requirement already satisfied: protobuf<4.0dev,>=3.12.0 in /opt/conda/lib/python3.8/site-packages (from wandb) (3.19.4)\n",
      "Requirement already satisfied: pathtools in /opt/conda/lib/python3.8/site-packages (from wandb) (0.1.2)\n",
      "Requirement already satisfied: setuptools in /opt/conda/lib/python3.8/site-packages (from wandb) (59.5.0)\n",
      "Requirement already satisfied: gitdb<5,>=4.0.1 in /opt/conda/lib/python3.8/site-packages (from GitPython>=1.0.0->wandb) (4.0.9)\n",
      "Requirement already satisfied: smmap<6,>=3.0.1 in /opt/conda/lib/python3.8/site-packages (from gitdb<5,>=4.0.1->GitPython>=1.0.0->wandb) (5.0.0)\n",
      "Requirement already satisfied: urllib3<1.27,>=1.21.1 in /opt/conda/lib/python3.8/site-packages (from requests<3,>=2.0.0->wandb) (1.26.7)\n",
      "Requirement already satisfied: certifi>=2017.4.17 in /opt/conda/lib/python3.8/site-packages (from requests<3,>=2.0.0->wandb) (2022.6.15)\n",
      "Requirement already satisfied: charset-normalizer~=2.0.0 in /opt/conda/lib/python3.8/site-packages (from requests<3,>=2.0.0->wandb) (2.0.9)\n",
      "Requirement already satisfied: idna<4,>=2.5 in /opt/conda/lib/python3.8/site-packages (from requests<3,>=2.0.0->wandb) (3.1)\n",
      "\u001b[33mWARNING: Running pip as the 'root' user can result in broken permissions and conflicting behaviour with the system package manager. It is recommended to use a virtual environment instead: https://pip.pypa.io/warnings/venv\u001b[0m\n"
     ]
    }
   ],
   "source": [
    "# Weights and Bias to version the dataset\n",
    "!pip install wandb"
   ]
  },
  {
   "cell_type": "code",
   "execution_count": 3,
   "id": "57c67805-6b74-431b-adde-794c11eb65fe",
   "metadata": {},
   "outputs": [],
   "source": [
    "import nltk\n",
    "from nltk.corpus import stopwords\n",
    "from nltk.stem import PorterStemmer\n",
    "import re"
   ]
  },
  {
   "cell_type": "code",
   "execution_count": 4,
   "id": "b7c73180-6206-4b98-9c85-a793798e3abc",
   "metadata": {},
   "outputs": [],
   "source": [
    "import pandas as pd\n",
    "import numpy as np\n",
    "import matplotlib.pyplot as plt\n",
    "import seaborn as sns\n",
    "sns.set_theme(style=\"darkgrid\")\n",
    "import warnings\n",
    "warnings.filterwarnings(\"ignore\")"
   ]
  },
  {
   "cell_type": "code",
   "execution_count": 5,
   "id": "0d8e6a94-8496-4aba-aa18-bc9c9cdeaa3b",
   "metadata": {},
   "outputs": [],
   "source": [
    "import wandb"
   ]
  },
  {
   "cell_type": "code",
   "execution_count": 6,
   "id": "93cb3289-909e-4500-8f69-b74bc7d6e514",
   "metadata": {},
   "outputs": [
    {
     "name": "stderr",
     "output_type": "stream",
     "text": [
      "\u001b[34m\u001b[1mwandb\u001b[0m: Currently logged in as: \u001b[33malokpadhi\u001b[0m. Use \u001b[1m`wandb login --relogin`\u001b[0m to force relogin\n"
     ]
    },
    {
     "data": {
      "text/plain": [
       "True"
      ]
     },
     "execution_count": 6,
     "metadata": {},
     "output_type": "execute_result"
    }
   ],
   "source": [
    "wandb.login()"
   ]
  },
  {
   "cell_type": "code",
   "execution_count": 7,
   "id": "5d3a11a4-1ffa-4b34-98d0-02fc0ba7f371",
   "metadata": {},
   "outputs": [],
   "source": [
    "# get label_encoder.json file from wandb\n",
    "# run = wandb.init()\n",
    "# artifact = run.use_artifact('alokpadhi/stackoverflow-quality/data_artifacts:v0', type='preprcossing_data')\n",
    "# artifact_dir = artifact.download()"
   ]
  },
  {
   "cell_type": "code",
   "execution_count": 8,
   "id": "3cf733a0-b386-496e-83d1-3bc33bafb73c",
   "metadata": {},
   "outputs": [],
   "source": [
    "from pathlib import Path"
   ]
  },
  {
   "cell_type": "code",
   "execution_count": 16,
   "id": "775e96ba-9a69-43b8-8504-a83e55bb58fc",
   "metadata": {},
   "outputs": [],
   "source": [
    "Path(\"../../datasets/preprocessed\").mkdir(exist_ok=True)"
   ]
  },
  {
   "cell_type": "code",
   "execution_count": 17,
   "id": "1f5a449b-cbb5-4b55-bad8-9daeaa11ad88",
   "metadata": {},
   "outputs": [],
   "source": [
    "preprocessed_datapath = Path(\"../../datasets/preprocessed\")"
   ]
  },
  {
   "cell_type": "code",
   "execution_count": 21,
   "id": "76aa62ab-06e5-433b-bf0a-e259644ac7fc",
   "metadata": {},
   "outputs": [],
   "source": [
    "# # Get preprocessed data\n",
    "# run = wandb.init()\n",
    "# artifact = run.use_artifact('alokpadhi/stackoverflow-quality/processed_dataset:v1', type='raw_data')\n",
    "# artifact_dir = artifact.download(preprocessed_datapath)"
   ]
  },
  {
   "cell_type": "code",
   "execution_count": 24,
   "id": "506de91e-58c7-4cb3-845d-840b26c5675c",
   "metadata": {},
   "outputs": [],
   "source": [
    "df = pd.read_parquet('../../datasets/preprocessed/train_processed.parquet')"
   ]
  },
  {
   "cell_type": "code",
   "execution_count": 25,
   "id": "e6f21704-19f7-4c5b-a0b1-07c7762f7883",
   "metadata": {},
   "outputs": [
    {
     "data": {
      "text/html": [
       "<div>\n",
       "<style scoped>\n",
       "    .dataframe tbody tr th:only-of-type {\n",
       "        vertical-align: middle;\n",
       "    }\n",
       "\n",
       "    .dataframe tbody tr th {\n",
       "        vertical-align: top;\n",
       "    }\n",
       "\n",
       "    .dataframe thead th {\n",
       "        text-align: right;\n",
       "    }\n",
       "</style>\n",
       "<table border=\"1\" class=\"dataframe\">\n",
       "  <thead>\n",
       "    <tr style=\"text-align: right;\">\n",
       "      <th></th>\n",
       "      <th>Y</th>\n",
       "      <th>text</th>\n",
       "    </tr>\n",
       "  </thead>\n",
       "  <tbody>\n",
       "    <tr>\n",
       "      <th>0</th>\n",
       "      <td>LQ_CLOSE</td>\n",
       "      <td>java repeat task every random seconds already ...</td>\n",
       "    </tr>\n",
       "    <tr>\n",
       "      <th>1</th>\n",
       "      <td>HQ</td>\n",
       "      <td>java optionals immutable like understand java ...</td>\n",
       "    </tr>\n",
       "    <tr>\n",
       "      <th>2</th>\n",
       "      <td>HQ</td>\n",
       "      <td>text overlay image darkened opacity react nati...</td>\n",
       "    </tr>\n",
       "    <tr>\n",
       "      <th>3</th>\n",
       "      <td>HQ</td>\n",
       "      <td>ternary operator swift picky question simple c...</td>\n",
       "    </tr>\n",
       "    <tr>\n",
       "      <th>4</th>\n",
       "      <td>HQ</td>\n",
       "      <td>hide show fab scale animation using custom flo...</td>\n",
       "    </tr>\n",
       "  </tbody>\n",
       "</table>\n",
       "</div>"
      ],
      "text/plain": [
       "          Y                                               text\n",
       "0  LQ_CLOSE  java repeat task every random seconds already ...\n",
       "1        HQ  java optionals immutable like understand java ...\n",
       "2        HQ  text overlay image darkened opacity react nati...\n",
       "3        HQ  ternary operator swift picky question simple c...\n",
       "4        HQ  hide show fab scale animation using custom flo..."
      ]
     },
     "execution_count": 25,
     "metadata": {},
     "output_type": "execute_result"
    }
   ],
   "source": [
    "df.head()"
   ]
  },
  {
   "cell_type": "code",
   "execution_count": 26,
   "id": "e6e0fd20-bcab-43f4-b261-03de4ea18ac6",
   "metadata": {},
   "outputs": [],
   "source": [
    "# Feature and target\n",
    "X = df.text.to_numpy()\n",
    "y = df.Y"
   ]
  },
  {
   "cell_type": "code",
   "execution_count": 27,
   "id": "663218fd-728f-44bb-91da-e85b966d45d2",
   "metadata": {},
   "outputs": [],
   "source": [
    "import json"
   ]
  },
  {
   "cell_type": "code",
   "execution_count": 28,
   "id": "a0c2c018-294d-4247-9ab0-c697e3d4291e",
   "metadata": {},
   "outputs": [],
   "source": [
    "# Label encoder to encode class labels\n",
    "class LabelEncoder(object):\n",
    "    \"\"\"Encode labels into unqiue ids/integers\"\"\"\n",
    "    def __init__(self, class_to_index={}):\n",
    "        self.class_to_index = class_to_index or {}\n",
    "        self.index_to_class = {v:k for k, v in self.class_to_index.items()}\n",
    "        self.classes = list(self.class_to_index.keys())\n",
    "        \n",
    "    def __len__(self):\n",
    "        return len(self.class_to_index)\n",
    "    \n",
    "    def __str__(self):\n",
    "        return f\"<LabelEncoder(num_classes={len(self)})>\"\n",
    "    \n",
    "    def fit(self, y):\n",
    "        classes = np.unique(y)\n",
    "        for i, class_ in enumerate(classes):\n",
    "            self.class_to_index[class_] = i\n",
    "        self.index_to_class = {v:k for k, v in self.class_to_index.items()}\n",
    "        self.classes = list(self.class_to_index.keys())\n",
    "        return self\n",
    "    \n",
    "    def encode(self, y):\n",
    "        encoded = np.zeros(len(y), dtype=int)\n",
    "        for i, item in enumerate(y):\n",
    "            encoded[i] = self.class_to_index[item]\n",
    "        return encoded\n",
    "    \n",
    "    def decode(self, y):\n",
    "        classes = []\n",
    "        for i, item in enumerate(y):\n",
    "            classes.append(self.index_to_class[item])\n",
    "            \n",
    "        return classes\n",
    "    \n",
    "    def save(self, fp):\n",
    "        with open(fp, \"w\") as fp:\n",
    "            contents = {\"class_to_index\": self.class_to_index}\n",
    "            json.dump(contents, fp, indent=4, sort_keys=False)\n",
    "    \n",
    "    @classmethod\n",
    "    def load(cls, fp):\n",
    "        with open(fp, \"r\") as fp:\n",
    "            kwargs = json.load(fp=fp)\n",
    "        return cls(**kwargs)"
   ]
  },
  {
   "cell_type": "code",
   "execution_count": 30,
   "id": "e9a48aaa-f2ae-4527-9e9c-a36ea90c8f19",
   "metadata": {},
   "outputs": [],
   "source": [
    "label_encoder = LabelEncoder.load(\"../../artifacts/label_encoder.json\")"
   ]
  },
  {
   "cell_type": "code",
   "execution_count": 31,
   "id": "ff4babff-48c2-4702-b8d3-14cec0a7e5a4",
   "metadata": {},
   "outputs": [
    {
     "data": {
      "text/plain": [
       "{'HQ': 0, 'LQ_CLOSE': 1, 'LQ_EDIT': 2}"
      ]
     },
     "execution_count": 31,
     "metadata": {},
     "output_type": "execute_result"
    }
   ],
   "source": [
    "label_encoder.class_to_index"
   ]
  },
  {
   "cell_type": "code",
   "execution_count": 32,
   "id": "dddf643f-91f1-42c3-89d4-ab08bb480b40",
   "metadata": {},
   "outputs": [],
   "source": [
    "NUM_CLASSES = len(label_encoder)"
   ]
  },
  {
   "cell_type": "code",
   "execution_count": 33,
   "id": "3762ea37-0572-46df-9420-b8e5b7bb10c7",
   "metadata": {},
   "outputs": [
    {
     "name": "stdout",
     "output_type": "stream",
     "text": [
      "(45000,)\n"
     ]
    }
   ],
   "source": [
    "# Encode all our labels\n",
    "y = label_encoder.encode(y)\n",
    "print(y.shape)"
   ]
  },
  {
   "cell_type": "code",
   "execution_count": 34,
   "id": "851168f0-e784-40d0-ad4f-66e7f0da3a0a",
   "metadata": {},
   "outputs": [],
   "source": [
    "from sklearn.model_selection import train_test_split"
   ]
  },
  {
   "cell_type": "code",
   "execution_count": 35,
   "id": "0993a404-776f-4ad5-ab57-917a7510cee6",
   "metadata": {},
   "outputs": [],
   "source": [
    "# split sizes\n",
    "train_size = 0.7\n",
    "val_size = 0.15\n",
    "test_size = 0.15"
   ]
  },
  {
   "cell_type": "code",
   "execution_count": 36,
   "id": "628821c2-0c88-4906-b41b-f32f80f806f1",
   "metadata": {},
   "outputs": [],
   "source": [
    "# To ensure the target distribution remains same across the splits\n",
    "X_train, X_, y_train, y_ = train_test_split(\n",
    "                            X, y, train_size=train_size, stratify=y)"
   ]
  },
  {
   "cell_type": "code",
   "execution_count": 37,
   "id": "2f289204-1a73-4a16-97b3-e0152ea6d25b",
   "metadata": {},
   "outputs": [
    {
     "name": "stdout",
     "output_type": "stream",
     "text": [
      "train: 31499 (0.70)\n",
      "remaining: 13501 (0.30)\n"
     ]
    }
   ],
   "source": [
    "print(f\"train: {len(X_train)} ({(len(X_train)/len(X)):.2f})\\n\"\n",
    "     f\"remaining: {len(X_)} ({(len(X_)/len(X)):.2f})\")"
   ]
  },
  {
   "cell_type": "code",
   "execution_count": 38,
   "id": "da6035a3-a2b0-4cc4-969b-b269e70bbdac",
   "metadata": {},
   "outputs": [],
   "source": [
    "# split for validation and test set\n",
    "X_val, X_test, y_val, y_test = train_test_split(\n",
    "                                X_, y_, train_size=0.5, stratify=y_)"
   ]
  },
  {
   "cell_type": "code",
   "execution_count": 39,
   "id": "19d23340-f559-4eb1-821d-dde0057a28ee",
   "metadata": {},
   "outputs": [
    {
     "name": "stdout",
     "output_type": "stream",
     "text": [
      "train: 31499 (0.70)\n",
      "val: 6750 (0.15)\n",
      "test: 6751 (0.15)\n"
     ]
    }
   ],
   "source": [
    "print(f\"train: {len(X_train)} ({(len(X_train)/len(X)):.2f})\\n\"\n",
    "     f\"val: {len(X_val)} ({(len(X_val)/len(X)):.2f})\\n\"\n",
    "     f\"test: {len(X_test)} ({(len(X_test)/len(X)):.2f})\")"
   ]
  },
  {
   "cell_type": "code",
   "execution_count": 40,
   "id": "ce3d0e28-6a4d-4ccc-a13f-1a3d36c06a86",
   "metadata": {},
   "outputs": [],
   "source": [
    "# Get counts for each class\n",
    "counts = {}\n",
    "counts[\"train_counts\"] = {rating: label_encoder.decode(y_train).count(rating) for rating in label_encoder.classes}\n",
    "counts[\"val_counts\"] = {rating: label_encoder.decode(y_val).count(rating) for rating in label_encoder.classes}\n",
    "counts[\"test_counts\"] = {rating: label_encoder.decode(y_test).count(rating) for rating in label_encoder.classes}"
   ]
  },
  {
   "cell_type": "code",
   "execution_count": 43,
   "id": "3f1cd218-58d6-4a6b-ac1b-5f87697efc1d",
   "metadata": {},
   "outputs": [
    {
     "data": {
      "text/html": [
       "<div>\n",
       "<style scoped>\n",
       "    .dataframe tbody tr th:only-of-type {\n",
       "        vertical-align: middle;\n",
       "    }\n",
       "\n",
       "    .dataframe tbody tr th {\n",
       "        vertical-align: top;\n",
       "    }\n",
       "\n",
       "    .dataframe thead th {\n",
       "        text-align: right;\n",
       "    }\n",
       "</style>\n",
       "<table border=\"1\" class=\"dataframe\">\n",
       "  <thead>\n",
       "    <tr style=\"text-align: right;\">\n",
       "      <th></th>\n",
       "      <th>HQ</th>\n",
       "      <th>LQ_CLOSE</th>\n",
       "      <th>LQ_EDIT</th>\n",
       "    </tr>\n",
       "  </thead>\n",
       "  <tbody>\n",
       "    <tr>\n",
       "      <th>train</th>\n",
       "      <td>10499</td>\n",
       "      <td>10500</td>\n",
       "      <td>10500</td>\n",
       "    </tr>\n",
       "    <tr>\n",
       "      <th>val</th>\n",
       "      <td>2250</td>\n",
       "      <td>2250</td>\n",
       "      <td>2250</td>\n",
       "    </tr>\n",
       "    <tr>\n",
       "      <th>test</th>\n",
       "      <td>2251</td>\n",
       "      <td>2250</td>\n",
       "      <td>2250</td>\n",
       "    </tr>\n",
       "  </tbody>\n",
       "</table>\n",
       "</div>"
      ],
      "text/plain": [
       "          HQ  LQ_CLOSE  LQ_EDIT\n",
       "train  10499     10500    10500\n",
       "val     2250      2250     2250\n",
       "test    2251      2250     2250"
      ]
     },
     "execution_count": 43,
     "metadata": {},
     "output_type": "execute_result"
    }
   ],
   "source": [
    "# convert the class distribution across splits to dataframe\n",
    "dist_df = pd.DataFrame({\n",
    "    \"train\": counts[\"train_counts\"],\n",
    "    \"val\": counts[\"val_counts\"],\n",
    "    \"test\": counts[\"test_counts\"]\n",
    "}).T.fillna(0)\n",
    "dist_df"
   ]
  },
  {
   "cell_type": "code",
   "execution_count": 45,
   "id": "65a288ba-b18d-4f04-9886-14231a6ff670",
   "metadata": {},
   "outputs": [],
   "source": [
    "train_df = pd.DataFrame({\"text\": X_train, \"rating\": label_encoder.decode(y_train)})\n",
    "val_df = pd.DataFrame({\"text\": X_val, \"rating\": label_encoder.decode(y_val)})\n",
    "test_df = pd.DataFrame({\"text\": X_test, \"rating\": label_encoder.decode(y_test)})"
   ]
  },
  {
   "cell_type": "code",
   "execution_count": 47,
   "id": "bb20141d-0f90-458c-adeb-22bb07c82707",
   "metadata": {},
   "outputs": [
    {
     "data": {
      "text/html": [
       "<div>\n",
       "<style scoped>\n",
       "    .dataframe tbody tr th:only-of-type {\n",
       "        vertical-align: middle;\n",
       "    }\n",
       "\n",
       "    .dataframe tbody tr th {\n",
       "        vertical-align: top;\n",
       "    }\n",
       "\n",
       "    .dataframe thead th {\n",
       "        text-align: right;\n",
       "    }\n",
       "</style>\n",
       "<table border=\"1\" class=\"dataframe\">\n",
       "  <thead>\n",
       "    <tr style=\"text-align: right;\">\n",
       "      <th></th>\n",
       "      <th>text</th>\n",
       "      <th>rating</th>\n",
       "    </tr>\n",
       "  </thead>\n",
       "  <tbody>\n",
       "    <tr>\n",
       "      <th>0</th>\n",
       "      <td>python wrong codepython beginner trying execut...</td>\n",
       "      <td>LQ_EDIT</td>\n",
       "    </tr>\n",
       "    <tr>\n",
       "      <th>1</th>\n",
       "      <td>map json object array list javascript hi json ...</td>\n",
       "      <td>LQ_CLOSE</td>\n",
       "    </tr>\n",
       "    <tr>\n",
       "      <th>2</th>\n",
       "      <td>order stl queue container trying make queue cl...</td>\n",
       "      <td>LQ_CLOSE</td>\n",
       "    </tr>\n",
       "    <tr>\n",
       "      <th>3</th>\n",
       "      <td>traverse website get console say website follo...</td>\n",
       "      <td>LQ_CLOSE</td>\n",
       "    </tr>\n",
       "    <tr>\n",
       "      <th>4</th>\n",
       "      <td>preg match all get something preg match all( d...</td>\n",
       "      <td>LQ_EDIT</td>\n",
       "    </tr>\n",
       "    <tr>\n",
       "      <th>5</th>\n",
       "      <td>media query switch 768 resize window pre code ...</td>\n",
       "      <td>LQ_CLOSE</td>\n",
       "    </tr>\n",
       "    <tr>\n",
       "      <th>6</th>\n",
       "      <td>enable html button certain delay display count...</td>\n",
       "      <td>LQ_CLOSE</td>\n",
       "    </tr>\n",
       "    <tr>\n",
       "      <th>7</th>\n",
       "      <td>finding difference 2 strings 2 texboxes powerp...</td>\n",
       "      <td>LQ_CLOSE</td>\n",
       "    </tr>\n",
       "    <tr>\n",
       "      <th>8</th>\n",
       "      <td>program run properly wrote program reason else...</td>\n",
       "      <td>LQ_CLOSE</td>\n",
       "    </tr>\n",
       "    <tr>\n",
       "      <th>9</th>\n",
       "      <td>domain configuration docker compose configure ...</td>\n",
       "      <td>HQ</td>\n",
       "    </tr>\n",
       "  </tbody>\n",
       "</table>\n",
       "</div>"
      ],
      "text/plain": [
       "                                                text    rating\n",
       "0  python wrong codepython beginner trying execut...   LQ_EDIT\n",
       "1  map json object array list javascript hi json ...  LQ_CLOSE\n",
       "2  order stl queue container trying make queue cl...  LQ_CLOSE\n",
       "3  traverse website get console say website follo...  LQ_CLOSE\n",
       "4  preg match all get something preg match all( d...   LQ_EDIT\n",
       "5  media query switch 768 resize window pre code ...  LQ_CLOSE\n",
       "6  enable html button certain delay display count...  LQ_CLOSE\n",
       "7  finding difference 2 strings 2 texboxes powerp...  LQ_CLOSE\n",
       "8  program run properly wrote program reason else...  LQ_CLOSE\n",
       "9  domain configuration docker compose configure ...        HQ"
      ]
     },
     "execution_count": 47,
     "metadata": {},
     "output_type": "execute_result"
    }
   ],
   "source": [
    "# check train\n",
    "train_df.head(10)"
   ]
  },
  {
   "cell_type": "code",
   "execution_count": 48,
   "id": "b3b681da-62b1-4441-aa49-190fe729be6c",
   "metadata": {},
   "outputs": [
    {
     "data": {
      "text/plain": [
       "<AxesSubplot:xlabel='rating', ylabel='count'>"
      ]
     },
     "execution_count": 48,
     "metadata": {},
     "output_type": "execute_result"
    },
    {
     "data": {
      "image/png": "[encoded data removed]",
      "text/plain": [
       "<Figure size 432x288 with 1 Axes>"
      ]
     },
     "metadata": {},
     "output_type": "display_data"
    }
   ],
   "source": [
    "# plot train rating distribution\n",
    "sns.countplot(train_df['rating'])"
   ]
  },
  {
   "cell_type": "code",
   "execution_count": 49,
   "id": "ae5814d0-e66c-4610-87e8-8e89bc4e5e97",
   "metadata": {},
   "outputs": [],
   "source": [
    "from pathlib import Path"
   ]
  },
  {
   "cell_type": "code",
   "execution_count": 51,
   "id": "2c4f4819-b7cc-40c8-a6f3-80af057f6cc3",
   "metadata": {},
   "outputs": [],
   "source": [
    "dataset_path = Path(\"../../datasets/V1\").mkdir(exist_ok=True)"
   ]
  },
  {
   "cell_type": "code",
   "execution_count": 56,
   "id": "4db29082-a795-4094-a7b7-c8882eae009d",
   "metadata": {},
   "outputs": [],
   "source": [
    "dataset_path = Path(\"../../datasets/V1\")"
   ]
  },
  {
   "cell_type": "code",
   "execution_count": 58,
   "id": "7ab58e98-0a0a-48c7-9fe5-1c791d46a5b7",
   "metadata": {},
   "outputs": [],
   "source": [
    "train_df.to_parquet(dataset_path / \"train.parquet\",index=False)\n",
    "val_df.to_parquet(dataset_path / \"valid.parquet\",index=False)\n",
    "test_df.to_parquet(dataset_path / \"test.parquet\",index=False)"
   ]
  },
  {
   "cell_type": "code",
   "execution_count": 61,
   "id": "50da1dc7-344d-4278-ac0e-c8bc44c87e70",
   "metadata": {},
   "outputs": [
    {
     "data": {
      "text/html": [
       "Finishing last run (ID:3ss8kmgv) before initializing another..."
      ],
      "text/plain": [
       "<IPython.core.display.HTML object>"
      ]
     },
     "metadata": {},
     "output_type": "display_data"
    },
    {
     "data": {
      "text/html": [
       "Waiting for W&B process to finish... <strong style=\"color:green\">(success).</strong>"
      ],
      "text/plain": [
       "<IPython.core.display.HTML object>"
      ]
     },
     "metadata": {},
     "output_type": "display_data"
    },
    {
     "data": {
      "application/vnd.jupyter.widget-view+json": {
       "model_id": "",
       "version_major": 2,
       "version_minor": 0
      },
      "text/plain": [
       "VBox(children=(Label(value='0.001 MB of 0.001 MB uploaded (0.000 MB deduped)\\r'), FloatProgress(value=1.0, max…"
      ]
     },
     "metadata": {},
     "output_type": "display_data"
    },
    {
     "data": {
      "text/html": [
       "Synced <strong style=\"color:#cdcd00\">Model training data</strong>: <a href=\"https://wandb.ai/alokpadhi/stackoverflow-quality/runs/3ss8kmgv\" target=\"_blank\">https://wandb.ai/alokpadhi/stackoverflow-quality/runs/3ss8kmgv</a><br/>Synced 5 W&B file(s), 0 media file(s), 0 artifact file(s) and 0 other file(s)"
      ],
      "text/plain": [
       "<IPython.core.display.HTML object>"
      ]
     },
     "metadata": {},
     "output_type": "display_data"
    },
    {
     "data": {
      "text/html": [
       "Find logs at: <code>./wandb/run-20220627_055847-3ss8kmgv/logs</code>"
      ],
      "text/plain": [
       "<IPython.core.display.HTML object>"
      ]
     },
     "metadata": {},
     "output_type": "display_data"
    },
    {
     "data": {
      "text/html": [
       "Successfully finished last run (ID:3ss8kmgv). Initializing new run:<br/>"
      ],
      "text/plain": [
       "<IPython.core.display.HTML object>"
      ]
     },
     "metadata": {},
     "output_type": "display_data"
    },
    {
     "data": {
      "text/html": [
       "Tracking run with wandb version 0.12.19"
      ],
      "text/plain": [
       "<IPython.core.display.HTML object>"
      ]
     },
     "metadata": {},
     "output_type": "display_data"
    },
    {
     "data": {
      "text/html": [
       "Run data is saved locally in <code>/notebooks/stackoverflow/notebooks/data_exploration_processing/wandb/run-20220627_055907-5l6qkp5y</code>"
      ],
      "text/plain": [
       "<IPython.core.display.HTML object>"
      ]
     },
     "metadata": {},
     "output_type": "display_data"
    },
    {
     "data": {
      "text/html": [
       "Syncing run <strong><a href=\"https://wandb.ai/alokpadhi/stackoverflow-quality/runs/5l6qkp5y\" target=\"_blank\">Model training data</a></strong> to <a href=\"https://wandb.ai/alokpadhi/stackoverflow-quality\" target=\"_blank\">Weights & Biases</a> (<a href=\"https://wandb.me/run\" target=\"_blank\">docs</a>)<br/>"
      ],
      "text/plain": [
       "<IPython.core.display.HTML object>"
      ]
     },
     "metadata": {},
     "output_type": "display_data"
    },
    {
     "name": "stderr",
     "output_type": "stream",
     "text": [
      "\u001b[34m\u001b[1mwandb\u001b[0m: Adding directory to artifact (./../../datasets/V1)... Done. 0.0s\n"
     ]
    },
    {
     "data": {
      "text/plain": [
       "<wandb.sdk.wandb_artifacts.Artifact at 0x7fd7cc6b0c40>"
      ]
     },
     "execution_count": 61,
     "metadata": {},
     "output_type": "execute_result"
    }
   ],
   "source": [
    "# dataset version for v1\n",
    "v1_run = wandb.init(project=\"stackoverflow-quality\", name=\"Model training data\")\n",
    "datav1 = wandb.Artifact(\"Training-dataset\", type=\"raw_data\", description=\"Train, Val and test splits\", metadata={\"train_size\": len(train_df), \"val_size\": len(val_df),\n",
    "                                                                                                            \"test_size\": len(test_df)})\n",
    "datav1.add_dir(dataset_path)\n",
    "    \n",
    "v1_run.log_artifact(datav1)"
   ]
  },
  {
   "cell_type": "code",
   "execution_count": null,
   "id": "9bdaf2ec-b4bd-42e7-a4f9-f821ecb0d893",
   "metadata": {},
   "outputs": [],
   "source": []
  }
 ],
 "metadata": {
  "kernelspec": {
   "display_name": "Python 3 (ipykernel)",
   "language": "python",
   "name": "python3"
  },
  "language_info": {
   "codemirror_mode": {
    "name": "ipython",
    "version": 3
   },
   "file_extension": ".py",
   "mimetype": "text/x-python",
   "name": "python",
   "nbconvert_exporter": "python",
   "pygments_lexer": "ipython3",
   "version": "3.8.12"
  }
 },
 "nbformat": 4,
 "nbformat_minor": 5
}
