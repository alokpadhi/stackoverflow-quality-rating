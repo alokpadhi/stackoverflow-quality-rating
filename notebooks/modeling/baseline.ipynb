{
 "cells": [
  {
   "cell_type": "markdown",
   "id": "9712305e-4ca0-41af-b975-6ea01a7a7368",
   "metadata": {},
   "source": [
    "## Baseline\n",
    "    * First we will create a baseline and iteratively improve the performance with more complex models\n",
    "    * Along the way we will try to fix any data related issues like data imbalance, trying different vecotorization methods etc\n",
    "\n",
    "### Parameters to validate the final model\n",
    "    * Performance per class\n",
    "    * Latency\n",
    "    * Size of the model\n",
    "    * Inference cost\n",
    "    * Bias check\n",
    "    * Maintenance Cost\n",
    "\n",
    "### Baseline Model\n",
    "    * Randomly generated targets\n",
    "    * Simple rule based model"
   ]
  },
  {
   "cell_type": "markdown",
   "id": "507eddde-5242-442f-b5fb-f4710d328e48",
   "metadata": {},
   "source": [
    "## Random target Model"
   ]
  },
  {
   "cell_type": "code",
   "execution_count": 1,
   "id": "70786092-8d16-4628-b4f9-8afa6d3b53d9",
   "metadata": {},
   "outputs": [],
   "source": [
    "import random"
   ]
  },
  {
   "cell_type": "code",
   "execution_count": 2,
   "id": "0178e3b7-6822-449e-800f-0134022f3dc1",
   "metadata": {},
   "outputs": [
    {
     "name": "stdout",
     "output_type": "stream",
     "text": [
      "Looking in indexes: https://pypi.org/simple, https://pypi.ngc.nvidia.com\n",
      "Requirement already satisfied: seaborn in /opt/conda/lib/python3.8/site-packages (0.11.2)\n",
      "Requirement already satisfied: matplotlib>=2.2 in /opt/conda/lib/python3.8/site-packages (from seaborn) (3.5.1)\n",
      "Requirement already satisfied: numpy>=1.15 in /opt/conda/lib/python3.8/site-packages (from seaborn) (1.22.2)\n",
      "Requirement already satisfied: pandas>=0.23 in /opt/conda/lib/python3.8/site-packages (from seaborn) (1.3.5)\n",
      "Requirement already satisfied: scipy>=1.0 in /opt/conda/lib/python3.8/site-packages (from seaborn) (1.6.3)\n",
      "Requirement already satisfied: cycler>=0.10 in /opt/conda/lib/python3.8/site-packages (from matplotlib>=2.2->seaborn) (0.11.0)\n",
      "Requirement already satisfied: fonttools>=4.22.0 in /opt/conda/lib/python3.8/site-packages (from matplotlib>=2.2->seaborn) (4.29.1)\n",
      "Requirement already satisfied: pyparsing>=2.2.1 in /opt/conda/lib/python3.8/site-packages (from matplotlib>=2.2->seaborn) (3.0.7)\n",
      "Requirement already satisfied: python-dateutil>=2.7 in /opt/conda/lib/python3.8/site-packages (from matplotlib>=2.2->seaborn) (2.8.2)\n",
      "Requirement already satisfied: kiwisolver>=1.0.1 in /opt/conda/lib/python3.8/site-packages (from matplotlib>=2.2->seaborn) (1.4.3)\n",
      "Requirement already satisfied: packaging>=20.0 in /opt/conda/lib/python3.8/site-packages (from matplotlib>=2.2->seaborn) (21.3)\n",
      "Requirement already satisfied: pillow>=6.2.0 in /opt/conda/lib/python3.8/site-packages (from matplotlib>=2.2->seaborn) (9.0.0)\n",
      "Requirement already satisfied: pytz>=2017.3 in /opt/conda/lib/python3.8/site-packages (from pandas>=0.23->seaborn) (2021.3)\n",
      "Requirement already satisfied: six>=1.5 in /opt/conda/lib/python3.8/site-packages (from python-dateutil>=2.7->matplotlib>=2.2->seaborn) (1.16.0)\n",
      "\u001b[33mWARNING: Running pip as the 'root' user can result in broken permissions and conflicting behaviour with the system package manager. It is recommended to use a virtual environment instead: https://pip.pypa.io/warnings/venv\u001b[0m\n",
      "Note: you may need to restart the kernel to use updated packages.\n"
     ]
    }
   ],
   "source": [
    "%pip install seaborn"
   ]
  },
  {
   "cell_type": "code",
   "execution_count": 3,
   "id": "10f526ed-c292-44f7-a896-01b0d57298c7",
   "metadata": {},
   "outputs": [
    {
     "name": "stdout",
     "output_type": "stream",
     "text": [
      "Looking in indexes: https://pypi.org/simple, https://pypi.ngc.nvidia.com\n",
      "Requirement already satisfied: wandb in /opt/conda/lib/python3.8/site-packages (0.12.19)\n",
      "Requirement already satisfied: protobuf<4.0dev,>=3.12.0 in /opt/conda/lib/python3.8/site-packages (from wandb) (3.19.4)\n",
      "Requirement already satisfied: setuptools in /opt/conda/lib/python3.8/site-packages (from wandb) (59.5.0)\n",
      "Requirement already satisfied: requests<3,>=2.0.0 in /opt/conda/lib/python3.8/site-packages (from wandb) (2.26.0)\n",
      "Requirement already satisfied: sentry-sdk>=1.0.0 in /opt/conda/lib/python3.8/site-packages (from wandb) (1.6.0)\n",
      "Requirement already satisfied: Click!=8.0.0,>=7.0 in /opt/conda/lib/python3.8/site-packages (from wandb) (8.0.3)\n",
      "Requirement already satisfied: pathtools in /opt/conda/lib/python3.8/site-packages (from wandb) (0.1.2)\n",
      "Requirement already satisfied: setproctitle in /opt/conda/lib/python3.8/site-packages (from wandb) (1.2.3)\n",
      "Requirement already satisfied: six>=1.13.0 in /opt/conda/lib/python3.8/site-packages (from wandb) (1.16.0)\n",
      "Requirement already satisfied: promise<3,>=2.0 in /opt/conda/lib/python3.8/site-packages (from wandb) (2.3)\n",
      "Requirement already satisfied: psutil>=5.0.0 in /opt/conda/lib/python3.8/site-packages (from wandb) (5.9.0)\n",
      "Requirement already satisfied: docker-pycreds>=0.4.0 in /opt/conda/lib/python3.8/site-packages (from wandb) (0.4.0)\n",
      "Requirement already satisfied: shortuuid>=0.5.0 in /opt/conda/lib/python3.8/site-packages (from wandb) (1.0.9)\n",
      "Requirement already satisfied: GitPython>=1.0.0 in /opt/conda/lib/python3.8/site-packages (from wandb) (3.1.27)\n",
      "Requirement already satisfied: PyYAML in /opt/conda/lib/python3.8/site-packages (from wandb) (5.4.1)\n",
      "Requirement already satisfied: gitdb<5,>=4.0.1 in /opt/conda/lib/python3.8/site-packages (from GitPython>=1.0.0->wandb) (4.0.9)\n",
      "Requirement already satisfied: smmap<6,>=3.0.1 in /opt/conda/lib/python3.8/site-packages (from gitdb<5,>=4.0.1->GitPython>=1.0.0->wandb) (5.0.0)\n",
      "Requirement already satisfied: urllib3<1.27,>=1.21.1 in /opt/conda/lib/python3.8/site-packages (from requests<3,>=2.0.0->wandb) (1.26.7)\n",
      "Requirement already satisfied: certifi>=2017.4.17 in /opt/conda/lib/python3.8/site-packages (from requests<3,>=2.0.0->wandb) (2022.6.15)\n",
      "Requirement already satisfied: idna<4,>=2.5 in /opt/conda/lib/python3.8/site-packages (from requests<3,>=2.0.0->wandb) (3.1)\n",
      "Requirement already satisfied: charset-normalizer~=2.0.0 in /opt/conda/lib/python3.8/site-packages (from requests<3,>=2.0.0->wandb) (2.0.9)\n",
      "\u001b[33mWARNING: Running pip as the 'root' user can result in broken permissions and conflicting behaviour with the system package manager. It is recommended to use a virtual environment instead: https://pip.pypa.io/warnings/venv\u001b[0m\n"
     ]
    }
   ],
   "source": [
    "# Weights and Bias to version the dataset\n",
    "!pip install wandb"
   ]
  },
  {
   "cell_type": "code",
   "execution_count": 4,
   "id": "76c6b3fd-2564-4267-b75d-1feff0c80c4e",
   "metadata": {},
   "outputs": [],
   "source": [
    "import nltk\n",
    "from nltk.corpus import stopwords\n",
    "from nltk.stem import PorterStemmer\n",
    "import re"
   ]
  },
  {
   "cell_type": "code",
   "execution_count": 5,
   "id": "0010a64c-be9f-4204-9f5e-36707aa62986",
   "metadata": {},
   "outputs": [],
   "source": [
    "import pandas as pd\n",
    "import numpy as np\n",
    "import matplotlib.pyplot as plt\n",
    "import seaborn as sns\n",
    "sns.set_theme(style=\"darkgrid\")\n",
    "import warnings\n",
    "warnings.filterwarnings(\"ignore\")"
   ]
  },
  {
   "cell_type": "code",
   "execution_count": 6,
   "id": "e3ca2066-b916-4db6-9844-1d720d875df6",
   "metadata": {},
   "outputs": [],
   "source": [
    "import wandb"
   ]
  },
  {
   "cell_type": "code",
   "execution_count": 7,
   "id": "e0270221-aa1d-4d63-b4eb-6866ad67480c",
   "metadata": {},
   "outputs": [
    {
     "name": "stderr",
     "output_type": "stream",
     "text": [
      "\u001b[34m\u001b[1mwandb\u001b[0m: Currently logged in as: \u001b[33malokpadhi\u001b[0m. Use \u001b[1m`wandb login --relogin`\u001b[0m to force relogin\n"
     ]
    },
    {
     "data": {
      "text/plain": [
       "True"
      ]
     },
     "execution_count": 7,
     "metadata": {},
     "output_type": "execute_result"
    }
   ],
   "source": [
    "wandb.login()"
   ]
  },
  {
   "cell_type": "code",
   "execution_count": 8,
   "id": "b9506681-5d13-4828-b9db-dfc728a93b34",
   "metadata": {},
   "outputs": [],
   "source": [
    "import json"
   ]
  },
  {
   "cell_type": "code",
   "execution_count": 9,
   "id": "5981672f-da9c-405a-8787-e3d81bc48a9a",
   "metadata": {},
   "outputs": [],
   "source": [
    "# Label encoder to encode class labels\n",
    "class LabelEncoder(object):\n",
    "    \"\"\"Encode labels into unqiue ids/integers\"\"\"\n",
    "    def __init__(self, class_to_index={}):\n",
    "        self.class_to_index = class_to_index or {}\n",
    "        self.index_to_class = {v:k for k, v in self.class_to_index.items()}\n",
    "        self.classes = list(self.class_to_index.keys())\n",
    "        \n",
    "    def __len__(self):\n",
    "        return len(self.class_to_index)\n",
    "    \n",
    "    def __str__(self):\n",
    "        return f\"<LabelEncoder(num_classes={len(self)})>\"\n",
    "    \n",
    "    def fit(self, y):\n",
    "        classes = np.unique(y)\n",
    "        for i, class_ in enumerate(classes):\n",
    "            self.class_to_index[class_] = i\n",
    "        self.index_to_class = {v:k for k, v in self.class_to_index.items()}\n",
    "        self.classes = list(self.class_to_index.keys())\n",
    "        return self\n",
    "    \n",
    "    def encode(self, y):\n",
    "        encoded = np.zeros(len(y), dtype=int)\n",
    "        for i, item in enumerate(y):\n",
    "            encoded[i] = self.class_to_index[item]\n",
    "        return encoded\n",
    "    \n",
    "    def decode(self, y):\n",
    "        classes = []\n",
    "        for i, item in enumerate(y):\n",
    "            classes.append(self.index_to_class[item])\n",
    "            \n",
    "        return classes\n",
    "    \n",
    "    def save(self, fp):\n",
    "        with open(fp, \"w\") as fp:\n",
    "            contents = {\"class_to_index\": self.class_to_index}\n",
    "            json.dump(contents, fp, indent=4, sort_keys=False)\n",
    "    \n",
    "    @classmethod\n",
    "    def load(cls, fp):\n",
    "        with open(fp, \"r\") as fp:\n",
    "            kwargs = json.load(fp=fp)\n",
    "        return cls(**kwargs)"
   ]
  },
  {
   "cell_type": "code",
   "execution_count": 11,
   "id": "d1c55ccf-7c17-4c26-a77d-415f95437b81",
   "metadata": {},
   "outputs": [],
   "source": [
    "label_encoder = LabelEncoder.load(\"../../artifacts/label_encoder.json\")"
   ]
  },
  {
   "cell_type": "code",
   "execution_count": 12,
   "id": "e8fb7ef0-01d6-4362-bc13-ad3688513af7",
   "metadata": {},
   "outputs": [],
   "source": [
    "train_df = pd.read_parquet(\"../../datasets/V1/train.parquet\")\n",
    "val_df = pd.read_parquet(\"../../datasets/V1/valid.parquet\")\n",
    "test_df = pd.read_parquet(\"../../datasets/V1//test.parquet\")"
   ]
  },
  {
   "cell_type": "code",
   "execution_count": 13,
   "id": "f374ff39-d96a-4248-9ca9-b40fc0d36393",
   "metadata": {},
   "outputs": [
    {
     "data": {
      "text/plain": [
       "((31499, 2), (6750, 2), (6751, 2))"
      ]
     },
     "execution_count": 13,
     "metadata": {},
     "output_type": "execute_result"
    }
   ],
   "source": [
    "# validate shapes\n",
    "train_df.shape, val_df.shape, test_df.shape"
   ]
  },
  {
   "cell_type": "code",
   "execution_count": 14,
   "id": "376005a5-efb1-421e-aa2e-331469782356",
   "metadata": {},
   "outputs": [],
   "source": [
    "# Feature and target\n",
    "X_train = train_df.text.to_numpy()\n",
    "y_train = train_df.rating\n",
    "\n",
    "X_val =  val_df.text.to_numpy()\n",
    "y_val = val_df.rating\n",
    "\n",
    "X_test = test_df.text.to_numpy()\n",
    "y_test = test_df.rating"
   ]
  },
  {
   "cell_type": "code",
   "execution_count": 15,
   "id": "f4f3dcac-3044-4c08-bec8-3e3b388a99ee",
   "metadata": {},
   "outputs": [],
   "source": [
    "# Encode all our labels\n",
    "y_train = label_encoder.encode(y_train)\n",
    "\n",
    "y_val = label_encoder.encode(y_val)\n",
    "\n",
    "y_test = label_encoder.encode(y_test)"
   ]
  },
  {
   "cell_type": "code",
   "execution_count": 16,
   "id": "de449a0f-807e-4f09-b847-3d6d2ce33627",
   "metadata": {},
   "outputs": [],
   "source": [
    "def set_seeds(seed=42):\n",
    "    \"\"\"Set seeds for reproducibility\"\"\"\n",
    "    np.random.seed(seed)\n",
    "    random.seed(seed)"
   ]
  },
  {
   "cell_type": "code",
   "execution_count": 17,
   "id": "4c3dfee9-14d7-43d3-82bf-5239715a40bd",
   "metadata": {},
   "outputs": [
    {
     "name": "stdout",
     "output_type": "stream",
     "text": [
      "<LabelEncoder(num_classes=3)>\n"
     ]
    }
   ],
   "source": [
    "print(label_encoder)"
   ]
  },
  {
   "cell_type": "code",
   "execution_count": 18,
   "id": "660bcb2f-0f06-452b-9d38-b4847d55e623",
   "metadata": {},
   "outputs": [
    {
     "name": "stdout",
     "output_type": "stream",
     "text": [
      "['HQ', 'LQ_CLOSE', 'LQ_EDIT']\n"
     ]
    }
   ],
   "source": [
    "print(label_encoder.classes)"
   ]
  },
  {
   "cell_type": "code",
   "execution_count": 19,
   "id": "e3ac89d0-e075-4d33-8158-1255065616e6",
   "metadata": {},
   "outputs": [
    {
     "name": "stdout",
     "output_type": "stream",
     "text": [
      "(6751,)\n",
      "[0 1 0 0 1]\n"
     ]
    }
   ],
   "source": [
    "# Let's generate  random prediction on the test set to see the performance\n",
    "y_pred = np.random.randint(low=0, high=len(label_encoder), size=len(y_test))\n",
    "print(y_pred.shape)\n",
    "print(y_pred[:5])"
   ]
  },
  {
   "cell_type": "code",
   "execution_count": 20,
   "id": "9a9d5680-0de7-4dbc-8ae1-a5d90ef5a80e",
   "metadata": {},
   "outputs": [],
   "source": [
    "from sklearn.metrics import precision_recall_fscore_support"
   ]
  },
  {
   "cell_type": "code",
   "execution_count": 21,
   "id": "df12b9c1-f1a4-4cef-81b7-8fe7e5482779",
   "metadata": {},
   "outputs": [
    {
     "name": "stdout",
     "output_type": "stream",
     "text": [
      "{\n",
      "  \"precision\": 0.33354698483187256,\n",
      "  \"recal\": 0.333580210339209,\n",
      "  \"f1\": 0.33354856549136974\n",
      "}\n"
     ]
    }
   ],
   "source": [
    "# Evaluate the random prediction\n",
    "metrics = precision_recall_fscore_support(y_test, y_pred, average=\"weighted\")\n",
    "performance = {\"precision\": metrics[0], \"recal\": metrics[1], \"f1\": metrics[2]}\n",
    "print(json.dumps(performance, indent=2))"
   ]
  },
  {
   "cell_type": "code",
   "execution_count": 22,
   "id": "0af31306-0a4b-479c-af70-19778169d995",
   "metadata": {},
   "outputs": [
    {
     "data": {
      "text/html": [
       "Tracking run with wandb version 0.12.19"
      ],
      "text/plain": [
       "<IPython.core.display.HTML object>"
      ]
     },
     "metadata": {},
     "output_type": "display_data"
    },
    {
     "data": {
      "text/html": [
       "Run data is saved locally in <code>/notebooks/stackoverflow/notebooks/modeling/wandb/run-20220627_060833-x73ki3eb</code>"
      ],
      "text/plain": [
       "<IPython.core.display.HTML object>"
      ]
     },
     "metadata": {},
     "output_type": "display_data"
    },
    {
     "data": {
      "text/html": [
       "Syncing run <strong><a href=\"https://wandb.ai/alokpadhi/stackoverflow-quality/runs/x73ki3eb\" target=\"_blank\">Random-Model</a></strong> to <a href=\"https://wandb.ai/alokpadhi/stackoverflow-quality\" target=\"_blank\">Weights & Biases</a> (<a href=\"https://wandb.me/run\" target=\"_blank\">docs</a>)<br/>"
      ],
      "text/plain": [
       "<IPython.core.display.HTML object>"
      ]
     },
     "metadata": {},
     "output_type": "display_data"
    }
   ],
   "source": [
    "random_model_run = wandb.init(project=\"stackoverflow-quality\", name=\"Random-Model\")\n",
    "random_model_run.log({\"precision\": performance[\"precision\"], \"recall\": performance[\"recal\"], \"f1-score\": performance[\"f1\"]})"
   ]
  },
  {
   "cell_type": "markdown",
   "id": "f280e12e-1d97-4004-8179-cf48c377d2a5",
   "metadata": {},
   "source": [
    "## Rule Based Model"
   ]
  },
  {
   "cell_type": "code",
   "execution_count": 23,
   "id": "07027478-c137-49d6-8f03-c57c3937040c",
   "metadata": {},
   "outputs": [],
   "source": [
    "from collections import Counter"
   ]
  },
  {
   "cell_type": "code",
   "execution_count": 24,
   "id": "d5dae657-761d-4cc9-a26e-f9528017a056",
   "metadata": {},
   "outputs": [],
   "source": [
    "# Let's find out most frequent 10-20 words in each class\n",
    "target_word_dist = {}\n",
    "for y_ in label_encoder.classes:\n",
    "    filter_target_sentences = train_df.loc[train_df.rating == y_, 'text'].values\n",
    "    combine_words = \" \".join(filter_target_sentences).split(' ')\n",
    "    word_counter = Counter(combine_words).most_common(25)\n",
    "    target_word_dist[y_] = [wc[0] for wc in word_counter if len(wc[0]) > 1]"
   ]
  },
  {
   "cell_type": "code",
   "execution_count": 25,
   "id": "01c3ac90-ae69-4eb5-aee9-6feb8452525d",
   "metadata": {},
   "outputs": [
    {
     "data": {
      "text/plain": [
       "{'HQ': ['code',\n",
       "  '\\n\\n',\n",
       "  'pre',\n",
       "  'gt',\n",
       "  'lt',\n",
       "  'com',\n",
       "  'android',\n",
       "  'li',\n",
       "  'strong',\n",
       "  'error',\n",
       "  'app',\n",
       "  'using',\n",
       "  'href',\n",
       "  'java',\n",
       "  'file',\n",
       "  'class',\n",
       "  'get',\n",
       "  'new'],\n",
       " 'LQ_CLOSE': ['\\n\\n',\n",
       "  'code',\n",
       "  'lt',\n",
       "  'gt',\n",
       "  'pre',\n",
       "  'string',\n",
       "  'class',\n",
       "  'new',\n",
       "  'name',\n",
       "  'android',\n",
       "  'int',\n",
       "  'id',\n",
       "  'data',\n",
       "  'com',\n",
       "  'want',\n",
       "  'like',\n",
       "  'get',\n",
       "  'java'],\n",
       " 'LQ_EDIT': ['\\r\\n',\n",
       "  '\\r\\n\\r\\n',\n",
       "  'id',\n",
       "  'class',\n",
       "  'android',\n",
       "  'string',\n",
       "  'name',\n",
       "  'new',\n",
       "  'code',\n",
       "  'data',\n",
       "  'div',\n",
       "  'value',\n",
       "  'com',\n",
       "  'int',\n",
       "  'public',\n",
       "  'text',\n",
       "  'file',\n",
       "  'get']}"
      ]
     },
     "execution_count": 25,
     "metadata": {},
     "output_type": "execute_result"
    }
   ],
   "source": [
    "# Check the top 15 words in each class\n",
    "target_word_dist"
   ]
  },
  {
   "cell_type": "code",
   "execution_count": 26,
   "id": "43016045-78b0-4504-bb2c-9a99ab7dafe7",
   "metadata": {},
   "outputs": [],
   "source": [
    "import operator"
   ]
  },
  {
   "cell_type": "code",
   "execution_count": 27,
   "id": "0a0987c5-e1da-4fb8-85e4-2d4212df56c1",
   "metadata": {},
   "outputs": [],
   "source": [
    "# Match the input string words with each class word whichever gives the highest matching assign that class\n",
    "def match_words(input_str):\n",
    "    target_match_count = {}\n",
    "    input_str_words = input_str.split(' ')\n",
    "    for target_ in target_word_dist.keys():\n",
    "        target_words = [wc for wc in target_word_dist[target_]]\n",
    "        match_count = 0\n",
    "        for word in input_str_words:\n",
    "            if word in target_words:\n",
    "                match_count += 1\n",
    "        target_match_count[target_] = match_count\n",
    "    y_pred = max(target_match_count.items(), key=operator.itemgetter(1))[0]\n",
    "    return y_pred"
   ]
  },
  {
   "cell_type": "code",
   "execution_count": 28,
   "id": "28191b2d-2cda-4b4b-92cc-effe36ffa395",
   "metadata": {},
   "outputs": [],
   "source": [
    "y_pred = [match_words(input_str) for input_str in X_test]"
   ]
  },
  {
   "cell_type": "code",
   "execution_count": 29,
   "id": "f82953e8-d382-44fe-8a46-5aa66d26d49a",
   "metadata": {},
   "outputs": [],
   "source": [
    "y_pred = label_encoder.encode(y_pred)"
   ]
  },
  {
   "cell_type": "code",
   "execution_count": 30,
   "id": "220092dc-4d69-4972-9165-2b369df321a8",
   "metadata": {},
   "outputs": [
    {
     "data": {
      "text/plain": [
       "(6751,)"
      ]
     },
     "execution_count": 30,
     "metadata": {},
     "output_type": "execute_result"
    }
   ],
   "source": [
    "y_pred.shape"
   ]
  },
  {
   "cell_type": "code",
   "execution_count": 32,
   "id": "f4e2bcf8-c849-431c-a266-1831ce5c73ee",
   "metadata": {},
   "outputs": [
    {
     "name": "stdout",
     "output_type": "stream",
     "text": [
      "{\n",
      "  \"precision\": 0.6556052475456681,\n",
      "  \"recall\": 0.6092430750999852,\n",
      "  \"f1\": 0.6170609511840676\n",
      "}\n"
     ]
    }
   ],
   "source": [
    "metrics = precision_recall_fscore_support(y_test, y_pred, average=\"weighted\")\n",
    "performance = {\"precision\": metrics[0], \"recall\": metrics[1], \"f1\": metrics[2]}\n",
    "print(json.dumps(performance, indent=2))"
   ]
  },
  {
   "cell_type": "code",
   "execution_count": 34,
   "id": "21f10a8a-85f3-46bf-b994-93137be4aa30",
   "metadata": {},
   "outputs": [
    {
     "data": {
      "text/html": [
       "Finishing last run (ID:2b8nweq2) before initializing another..."
      ],
      "text/plain": [
       "<IPython.core.display.HTML object>"
      ]
     },
     "metadata": {},
     "output_type": "display_data"
    },
    {
     "data": {
      "text/html": [
       "Waiting for W&B process to finish... <strong style=\"color:green\">(success).</strong>"
      ],
      "text/plain": [
       "<IPython.core.display.HTML object>"
      ]
     },
     "metadata": {},
     "output_type": "display_data"
    },
    {
     "data": {
      "application/vnd.jupyter.widget-view+json": {
       "model_id": "",
       "version_major": 2,
       "version_minor": 0
      },
      "text/plain": [
       "VBox(children=(Label(value='0.001 MB of 0.001 MB uploaded (0.000 MB deduped)\\r'), FloatProgress(value=1.0, max…"
      ]
     },
     "metadata": {},
     "output_type": "display_data"
    },
    {
     "data": {
      "text/html": [
       "<style>\n",
       "    table.wandb td:nth-child(1) { padding: 0 10px; text-align: left ; width: auto;} td:nth-child(2) {text-align: left ; width: 100%}\n",
       "    .wandb-row { display: flex; flex-direction: row; flex-wrap: wrap; justify-content: flex-start; width: 100% }\n",
       "    .wandb-col { display: flex; flex-direction: column; flex-basis: 100%; flex: 1; padding: 10px; }\n",
       "    </style>\n",
       "<div class=\"wandb-row\"><div class=\"wandb-col\"><h3>Run history:</h3><br/><table class=\"wandb\"><tr><td>f1-score</td><td>▁</td></tr><tr><td>precision</td><td>▁</td></tr><tr><td>recall</td><td>▁</td></tr></table><br/></div><div class=\"wandb-col\"><h3>Run summary:</h3><br/><table class=\"wandb\"><tr><td>f1-score</td><td>0.61706</td></tr><tr><td>precision</td><td>0.65561</td></tr><tr><td>recall</td><td>0.60924</td></tr></table><br/></div></div>"
      ],
      "text/plain": [
       "<IPython.core.display.HTML object>"
      ]
     },
     "metadata": {},
     "output_type": "display_data"
    },
    {
     "data": {
      "text/html": [
       "Synced <strong style=\"color:#cdcd00\">Rule-Based</strong>: <a href=\"https://wandb.ai/alokpadhi/Medical-Transcription/runs/2b8nweq2\" target=\"_blank\">https://wandb.ai/alokpadhi/Medical-Transcription/runs/2b8nweq2</a><br/>Synced 4 W&B file(s), 0 media file(s), 0 artifact file(s) and 0 other file(s)"
      ],
      "text/plain": [
       "<IPython.core.display.HTML object>"
      ]
     },
     "metadata": {},
     "output_type": "display_data"
    },
    {
     "data": {
      "text/html": [
       "Find logs at: <code>./wandb/run-20220627_061227-2b8nweq2/logs</code>"
      ],
      "text/plain": [
       "<IPython.core.display.HTML object>"
      ]
     },
     "metadata": {},
     "output_type": "display_data"
    },
    {
     "data": {
      "text/html": [
       "Successfully finished last run (ID:2b8nweq2). Initializing new run:<br/>"
      ],
      "text/plain": [
       "<IPython.core.display.HTML object>"
      ]
     },
     "metadata": {},
     "output_type": "display_data"
    },
    {
     "data": {
      "text/html": [
       "Tracking run with wandb version 0.12.19"
      ],
      "text/plain": [
       "<IPython.core.display.HTML object>"
      ]
     },
     "metadata": {},
     "output_type": "display_data"
    },
    {
     "data": {
      "text/html": [
       "Run data is saved locally in <code>/notebooks/stackoverflow/notebooks/modeling/wandb/run-20220627_061356-1h36ql1j</code>"
      ],
      "text/plain": [
       "<IPython.core.display.HTML object>"
      ]
     },
     "metadata": {},
     "output_type": "display_data"
    },
    {
     "data": {
      "text/html": [
       "Syncing run <strong><a href=\"https://wandb.ai/alokpadhi/stackoverflow-quality/runs/1h36ql1j\" target=\"_blank\">Rule-Based</a></strong> to <a href=\"https://wandb.ai/alokpadhi/stackoverflow-quality\" target=\"_blank\">Weights & Biases</a> (<a href=\"https://wandb.me/run\" target=\"_blank\">docs</a>)<br/>"
      ],
      "text/plain": [
       "<IPython.core.display.HTML object>"
      ]
     },
     "metadata": {},
     "output_type": "display_data"
    }
   ],
   "source": [
    "rulebased_model_run = wandb.init(project=\"stackoverflow-quality\", name=\"Rule-Based\")\n",
    "rulebased_model_run.log({\"precision\": performance[\"precision\"], \"recall\": performance[\"recall\"], \"f1-score\": performance[\"f1\"]})"
   ]
  },
  {
   "cell_type": "code",
   "execution_count": null,
   "id": "35769066-1f08-4b5a-9905-91c10e817162",
   "metadata": {},
   "outputs": [],
   "source": []
  }
 ],
 "metadata": {
  "kernelspec": {
   "display_name": "Python 3 (ipykernel)",
   "language": "python",
   "name": "python3"
  },
  "language_info": {
   "codemirror_mode": {
    "name": "ipython",
    "version": 3
   },
   "file_extension": ".py",
   "mimetype": "text/x-python",
   "name": "python",
   "nbconvert_exporter": "python",
   "pygments_lexer": "ipython3",
   "version": "3.8.12"
  }
 },
 "nbformat": 4,
 "nbformat_minor": 5
}
