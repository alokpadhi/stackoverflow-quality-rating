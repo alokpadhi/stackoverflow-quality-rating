{
 "cells": [
  {
   "cell_type": "code",
   "execution_count": 1,
   "id": "2439dbdc-b0a7-464f-8723-1bf1b0ee6413",
   "metadata": {},
   "outputs": [
    {
     "name": "stdout",
     "output_type": "stream",
     "text": [
      "Looking in indexes: https://pypi.org/simple, https://pypi.ngc.nvidia.com\n",
      "Requirement already satisfied: seaborn in /opt/conda/lib/python3.8/site-packages (0.11.2)\n",
      "Requirement already satisfied: matplotlib>=2.2 in /opt/conda/lib/python3.8/site-packages (from seaborn) (3.5.1)\n",
      "Requirement already satisfied: scipy>=1.0 in /opt/conda/lib/python3.8/site-packages (from seaborn) (1.6.3)\n",
      "Requirement already satisfied: pandas>=0.23 in /opt/conda/lib/python3.8/site-packages (from seaborn) (1.3.5)\n",
      "Requirement already satisfied: numpy>=1.15 in /opt/conda/lib/python3.8/site-packages (from seaborn) (1.22.2)\n",
      "Requirement already satisfied: fonttools>=4.22.0 in /opt/conda/lib/python3.8/site-packages (from matplotlib>=2.2->seaborn) (4.29.1)\n",
      "Requirement already satisfied: pillow>=6.2.0 in /opt/conda/lib/python3.8/site-packages (from matplotlib>=2.2->seaborn) (9.0.0)\n",
      "Requirement already satisfied: pyparsing>=2.2.1 in /opt/conda/lib/python3.8/site-packages (from matplotlib>=2.2->seaborn) (3.0.7)\n",
      "Requirement already satisfied: python-dateutil>=2.7 in /opt/conda/lib/python3.8/site-packages (from matplotlib>=2.2->seaborn) (2.8.2)\n",
      "Requirement already satisfied: kiwisolver>=1.0.1 in /opt/conda/lib/python3.8/site-packages (from matplotlib>=2.2->seaborn) (1.4.3)\n",
      "Requirement already satisfied: cycler>=0.10 in /opt/conda/lib/python3.8/site-packages (from matplotlib>=2.2->seaborn) (0.11.0)\n",
      "Requirement already satisfied: packaging>=20.0 in /opt/conda/lib/python3.8/site-packages (from matplotlib>=2.2->seaborn) (21.3)\n",
      "Requirement already satisfied: pytz>=2017.3 in /opt/conda/lib/python3.8/site-packages (from pandas>=0.23->seaborn) (2021.3)\n",
      "Requirement already satisfied: six>=1.5 in /opt/conda/lib/python3.8/site-packages (from python-dateutil>=2.7->matplotlib>=2.2->seaborn) (1.16.0)\n",
      "\u001b[33mWARNING: Running pip as the 'root' user can result in broken permissions and conflicting behaviour with the system package manager. It is recommended to use a virtual environment instead: https://pip.pypa.io/warnings/venv\u001b[0m\n",
      "Note: you may need to restart the kernel to use updated packages.\n"
     ]
    }
   ],
   "source": [
    "%pip install seaborn"
   ]
  },
  {
   "cell_type": "code",
   "execution_count": 2,
   "id": "0fb479c7-1ebc-4eb0-86cf-5950bc8579f8",
   "metadata": {},
   "outputs": [
    {
     "name": "stdout",
     "output_type": "stream",
     "text": [
      "Looking in indexes: https://pypi.org/simple, https://pypi.ngc.nvidia.com\n",
      "Requirement already satisfied: wandb in /opt/conda/lib/python3.8/site-packages (0.12.19)\n",
      "Requirement already satisfied: pathtools in /opt/conda/lib/python3.8/site-packages (from wandb) (0.1.2)\n",
      "Requirement already satisfied: promise<3,>=2.0 in /opt/conda/lib/python3.8/site-packages (from wandb) (2.3)\n",
      "Requirement already satisfied: Click!=8.0.0,>=7.0 in /opt/conda/lib/python3.8/site-packages (from wandb) (8.0.3)\n",
      "Requirement already satisfied: setuptools in /opt/conda/lib/python3.8/site-packages (from wandb) (59.5.0)\n",
      "Requirement already satisfied: docker-pycreds>=0.4.0 in /opt/conda/lib/python3.8/site-packages (from wandb) (0.4.0)\n",
      "Requirement already satisfied: shortuuid>=0.5.0 in /opt/conda/lib/python3.8/site-packages (from wandb) (1.0.9)\n",
      "Requirement already satisfied: sentry-sdk>=1.0.0 in /opt/conda/lib/python3.8/site-packages (from wandb) (1.6.0)\n",
      "Requirement already satisfied: requests<3,>=2.0.0 in /opt/conda/lib/python3.8/site-packages (from wandb) (2.26.0)\n",
      "Requirement already satisfied: setproctitle in /opt/conda/lib/python3.8/site-packages (from wandb) (1.2.3)\n",
      "Requirement already satisfied: six>=1.13.0 in /opt/conda/lib/python3.8/site-packages (from wandb) (1.16.0)\n",
      "Requirement already satisfied: psutil>=5.0.0 in /opt/conda/lib/python3.8/site-packages (from wandb) (5.9.0)\n",
      "Requirement already satisfied: GitPython>=1.0.0 in /opt/conda/lib/python3.8/site-packages (from wandb) (3.1.27)\n",
      "Requirement already satisfied: PyYAML in /opt/conda/lib/python3.8/site-packages (from wandb) (5.4.1)\n",
      "Requirement already satisfied: protobuf<4.0dev,>=3.12.0 in /opt/conda/lib/python3.8/site-packages (from wandb) (3.19.4)\n",
      "Requirement already satisfied: gitdb<5,>=4.0.1 in /opt/conda/lib/python3.8/site-packages (from GitPython>=1.0.0->wandb) (4.0.9)\n",
      "Requirement already satisfied: smmap<6,>=3.0.1 in /opt/conda/lib/python3.8/site-packages (from gitdb<5,>=4.0.1->GitPython>=1.0.0->wandb) (5.0.0)\n",
      "Requirement already satisfied: charset-normalizer~=2.0.0 in /opt/conda/lib/python3.8/site-packages (from requests<3,>=2.0.0->wandb) (2.0.9)\n",
      "Requirement already satisfied: certifi>=2017.4.17 in /opt/conda/lib/python3.8/site-packages (from requests<3,>=2.0.0->wandb) (2022.6.15)\n",
      "Requirement already satisfied: urllib3<1.27,>=1.21.1 in /opt/conda/lib/python3.8/site-packages (from requests<3,>=2.0.0->wandb) (1.26.7)\n",
      "Requirement already satisfied: idna<4,>=2.5 in /opt/conda/lib/python3.8/site-packages (from requests<3,>=2.0.0->wandb) (3.1)\n",
      "\u001b[33mWARNING: Running pip as the 'root' user can result in broken permissions and conflicting behaviour with the system package manager. It is recommended to use a virtual environment instead: https://pip.pypa.io/warnings/venv\u001b[0m\n"
     ]
    }
   ],
   "source": [
    "\n",
    "# Weights and Bias to version the dataset and experiment tracking\n",
    "!pip install wandb"
   ]
  },
  {
   "cell_type": "code",
   "execution_count": 1,
   "id": "8fcddf42-778d-4195-85f2-62689b2ce2a1",
   "metadata": {},
   "outputs": [],
   "source": [
    "import nltk\n",
    "from nltk.corpus import stopwords\n",
    "from nltk.stem import PorterStemmer\n",
    "import re"
   ]
  },
  {
   "cell_type": "code",
   "execution_count": 2,
   "id": "e677f699-49cf-47ef-888b-23bfef76a124",
   "metadata": {},
   "outputs": [],
   "source": [
    "import pandas as pd\n",
    "import numpy as np\n",
    "import matplotlib.pyplot as plt\n",
    "import seaborn as sns\n",
    "sns.set_theme(style=\"darkgrid\")\n",
    "import warnings\n",
    "warnings.filterwarnings(\"ignore\")"
   ]
  },
  {
   "cell_type": "code",
   "execution_count": 3,
   "id": "b33139c9-0e1a-4b2b-95d7-ab01681a8f01",
   "metadata": {},
   "outputs": [],
   "source": [
    "import wandb"
   ]
  },
  {
   "cell_type": "code",
   "execution_count": 4,
   "id": "557b6b9d-7be0-4eb0-8c9e-260188072fd9",
   "metadata": {},
   "outputs": [
    {
     "name": "stderr",
     "output_type": "stream",
     "text": [
      "\u001b[34m\u001b[1mwandb\u001b[0m: Currently logged in as: \u001b[33malokpadhi\u001b[0m. Use \u001b[1m`wandb login --relogin`\u001b[0m to force relogin\n"
     ]
    },
    {
     "data": {
      "text/plain": [
       "True"
      ]
     },
     "execution_count": 4,
     "metadata": {},
     "output_type": "execute_result"
    }
   ],
   "source": [
    "wandb.login()"
   ]
  },
  {
   "cell_type": "code",
   "execution_count": 5,
   "id": "597c1d39-b688-45ae-97d3-82677dd5db0b",
   "metadata": {},
   "outputs": [],
   "source": [
    "import json\n",
    "import random"
   ]
  },
  {
   "cell_type": "code",
   "execution_count": 6,
   "id": "92eb5cb5-50fd-466c-ba2b-58e9f88510f5",
   "metadata": {},
   "outputs": [],
   "source": [
    "# Label encoder to encode class labels\n",
    "class LabelEncoder(object):\n",
    "    \"\"\"Encode labels into unqiue ids/integers\"\"\"\n",
    "    def __init__(self, class_to_index={}):\n",
    "        self.class_to_index = class_to_index or {}\n",
    "        self.index_to_class = {v:k for k, v in self.class_to_index.items()}\n",
    "        self.classes = list(self.class_to_index.keys())\n",
    "        \n",
    "    def __len__(self):\n",
    "        return len(self.class_to_index)\n",
    "    \n",
    "    def __str__(self):\n",
    "        return f\"<LabelEncoder(num_classes={len(self)})>\"\n",
    "    \n",
    "    def fit(self, y):\n",
    "        classes = np.unique(y)\n",
    "        for i, class_ in enumerate(classes):\n",
    "            self.class_to_index[class_] = i\n",
    "        self.index_to_class = {v:k for k, v in self.class_to_index.items()}\n",
    "        self.classes = list(self.class_to_index.keys())\n",
    "        return self\n",
    "    \n",
    "    def encode(self, y):\n",
    "        encoded = np.zeros(len(y), dtype=int)\n",
    "        for i, item in enumerate(y):\n",
    "            encoded[i] = self.class_to_index[item]\n",
    "        return encoded\n",
    "    \n",
    "    def decode(self, y):\n",
    "        classes = []\n",
    "        for i, item in enumerate(y):\n",
    "            classes.append(self.index_to_class[item])\n",
    "            \n",
    "        return classes\n",
    "    \n",
    "    def save(self, fp):\n",
    "        with open(fp, \"w\") as fp:\n",
    "            contents = {\"class_to_index\": self.class_to_index}\n",
    "            json.dump(contents, fp, indent=4, sort_keys=False)\n",
    "    \n",
    "    @classmethod\n",
    "    def load(cls, fp):\n",
    "        with open(fp, \"r\") as fp:\n",
    "            kwargs = json.load(fp=fp)\n",
    "        return cls(**kwargs)"
   ]
  },
  {
   "cell_type": "code",
   "execution_count": 7,
   "id": "70dd1b4f-2558-4d1c-93e5-c8251bc1b106",
   "metadata": {},
   "outputs": [],
   "source": [
    "label_encoder = LabelEncoder.load(\"../../artifacts/label_encoder.json\")"
   ]
  },
  {
   "cell_type": "code",
   "execution_count": 8,
   "id": "935779fd-d28c-4b8d-a232-8f87aed2d5ae",
   "metadata": {},
   "outputs": [],
   "source": [
    "train_df = pd.read_parquet(\"../../datasets/V1/train.parquet\")\n",
    "val_df = pd.read_parquet(\"../../datasets/V1/valid.parquet\")\n",
    "test_df = pd.read_parquet(\"../../datasets/V1//test.parquet\")"
   ]
  },
  {
   "cell_type": "code",
   "execution_count": 9,
   "id": "ad193ba2-0eeb-4cd2-8ca1-80db391b6379",
   "metadata": {},
   "outputs": [
    {
     "data": {
      "text/plain": [
       "((31499, 2), (6750, 2), (6751, 2))"
      ]
     },
     "execution_count": 9,
     "metadata": {},
     "output_type": "execute_result"
    }
   ],
   "source": [
    "# validate shapes\n",
    "train_df.shape, val_df.shape, test_df.shape"
   ]
  },
  {
   "cell_type": "code",
   "execution_count": 10,
   "id": "d4c0396f-81a3-489d-8355-46825b9c8735",
   "metadata": {},
   "outputs": [],
   "source": [
    "# Feature and target\n",
    "X_train = train_df.text.to_numpy()\n",
    "y_train = train_df.rating\n",
    "\n",
    "X_val =  val_df.text.to_numpy()\n",
    "y_val = val_df.rating\n",
    "\n",
    "X_test = test_df.text.to_numpy()\n",
    "y_test = test_df.rating"
   ]
  },
  {
   "cell_type": "code",
   "execution_count": 11,
   "id": "4963588c-02f4-4ba5-b978-0ba257a92c6a",
   "metadata": {},
   "outputs": [],
   "source": [
    "# Encode all our labels\n",
    "y_train = label_encoder.encode(y_train)\n",
    "\n",
    "y_val = label_encoder.encode(y_val)\n",
    "\n",
    "y_test = label_encoder.encode(y_test)"
   ]
  },
  {
   "cell_type": "code",
   "execution_count": 12,
   "id": "fdc995e5-296a-4944-8e46-fa69006cc1fe",
   "metadata": {},
   "outputs": [],
   "source": [
    "def set_seeds(seed=42):\n",
    "    \"\"\"Set seeds for reproducibility\"\"\"\n",
    "    np.random.seed(seed)\n",
    "    random.seed(seed)"
   ]
  },
  {
   "cell_type": "code",
   "execution_count": 13,
   "id": "524357be-f98a-4313-a910-dcfcaebc705d",
   "metadata": {},
   "outputs": [],
   "source": [
    "set_seeds()"
   ]
  },
  {
   "cell_type": "code",
   "execution_count": 14,
   "id": "7301224b-98f8-45bd-8caa-af82dbd026a4",
   "metadata": {},
   "outputs": [],
   "source": [
    "from sklearn.feature_extraction.text import TfidfVectorizer"
   ]
  },
  {
   "cell_type": "code",
   "execution_count": 15,
   "id": "e1b03012-732c-4f6a-9790-250da2d5be5c",
   "metadata": {},
   "outputs": [],
   "source": [
    "# saving raw X_test to compare later\n",
    "X_test_raw = X_test"
   ]
  },
  {
   "cell_type": "code",
   "execution_count": 16,
   "id": "77026041-8024-470e-9720-401eadda5935",
   "metadata": {},
   "outputs": [],
   "source": [
    "vectorizer = TfidfVectorizer(analyzer=\"char\", ngram_range=(2,7)) # character n-gram"
   ]
  },
  {
   "cell_type": "code",
   "execution_count": 17,
   "id": "db7ad7b0-54a9-4806-ab1a-f00c02d76703",
   "metadata": {},
   "outputs": [],
   "source": [
    "X_train = vectorizer.fit_transform(X_train)\n",
    "X_val = vectorizer.transform(X_val)\n",
    "X_test = vectorizer.transform(X_test)"
   ]
  },
  {
   "cell_type": "code",
   "execution_count": 18,
   "id": "9dba33e9-8428-42a1-8d0c-b0e1a9433628",
   "metadata": {},
   "outputs": [
    {
     "name": "stdout",
     "output_type": "stream",
     "text": [
      "(31499, 6215674)\n"
     ]
    }
   ],
   "source": [
    "print(X_train.shape)"
   ]
  },
  {
   "cell_type": "code",
   "execution_count": 19,
   "id": "440220d0-dc77-4090-a4df-a509ec9d8806",
   "metadata": {},
   "outputs": [
    {
     "name": "stdout",
     "output_type": "stream",
     "text": [
      "class counts: [10499 10500 10500],\n",
      "class weights: {0: 9.524716639679969e-05, 1: 9.523809523809524e-05, 2: 9.523809523809524e-05}\n"
     ]
    }
   ],
   "source": [
    "# class weights\n",
    "counts = np.bincount(y_train)\n",
    "class_weights = {i: 1.0/count for i, count in enumerate(counts)}\n",
    "print(f\"class counts: {counts},\\nclass weights: {class_weights}\")"
   ]
  },
  {
   "cell_type": "code",
   "execution_count": 21,
   "id": "ab012e2b-206f-4d0f-8063-cdadeeeaa1cb",
   "metadata": {},
   "outputs": [],
   "source": [
    "from sklearn import metrics\n",
    "from sklearn.linear_model import LogisticRegression\n",
    "from sklearn.linear_model import SGDClassifier\n",
    "from sklearn.metrics import log_loss, precision_recall_fscore_support"
   ]
  },
  {
   "cell_type": "code",
   "execution_count": 23,
   "id": "a38559fe-fc8a-4f0f-93e5-3c9ba83ee9b8",
   "metadata": {},
   "outputs": [],
   "source": [
    "lr_model = LogisticRegression(C=1)"
   ]
  },
  {
   "cell_type": "code",
   "execution_count": 24,
   "id": "fa8548a0-ed14-4f30-8ff6-f68e59d27adb",
   "metadata": {},
   "outputs": [
    {
     "data": {
      "text/plain": [
       "LogisticRegression(C=1)"
      ]
     },
     "execution_count": 24,
     "metadata": {},
     "output_type": "execute_result"
    }
   ],
   "source": [
    "lr_model.fit(X_train, y_train)"
   ]
  },
  {
   "cell_type": "code",
   "execution_count": 25,
   "id": "d0baa7ce-6fb8-44b3-b3e5-b5bd4c0ead92",
   "metadata": {},
   "outputs": [
    {
     "name": "stdout",
     "output_type": "stream",
     "text": [
      "{\n",
      "  \"precision\": 0.8208461977458574,\n",
      "  \"recall\": 0.8204710413272108,\n",
      "  \"f1\": 0.8189114615101143\n",
      "}\n"
     ]
    }
   ],
   "source": [
    "y_pred = lr_model.predict(X_test)\n",
    "y_pred_proba = lr_model.predict_proba(X_test)\n",
    "metrics = precision_recall_fscore_support(y_test, y_pred, average=\"weighted\")\n",
    "performance = {\"precision\": metrics[0], \"recall\": metrics[1], \"f1\": metrics[2]}\n",
    "print(json.dumps(performance, indent=2))"
   ]
  },
  {
   "cell_type": "code",
   "execution_count": 26,
   "id": "f36603df-ec3c-483f-b18c-9c7228a9d552",
   "metadata": {},
   "outputs": [
    {
     "data": {
      "text/html": [
       "Tracking run with wandb version 0.12.19"
      ],
      "text/plain": [
       "<IPython.core.display.HTML object>"
      ]
     },
     "metadata": {},
     "output_type": "display_data"
    },
    {
     "data": {
      "text/html": [
       "Run data is saved locally in <code>/notebooks/stackoverflow/notebooks/modeling/wandb/run-20220627_063635-1e462zkj</code>"
      ],
      "text/plain": [
       "<IPython.core.display.HTML object>"
      ]
     },
     "metadata": {},
     "output_type": "display_data"
    },
    {
     "data": {
      "text/html": [
       "Syncing run <strong><a href=\"https://wandb.ai/alokpadhi/stackoverflow-quality/runs/1e462zkj\" target=\"_blank\">LogisticRegression</a></strong> to <a href=\"https://wandb.ai/alokpadhi/stackoverflow-quality\" target=\"_blank\">Weights & Biases</a> (<a href=\"https://wandb.me/run\" target=\"_blank\">docs</a>)<br/>"
      ],
      "text/plain": [
       "<IPython.core.display.HTML object>"
      ]
     },
     "metadata": {},
     "output_type": "display_data"
    }
   ],
   "source": [
    "lr_model_run = wandb.init(project=\"stackoverflow-quality\", name=\"LogisticRegression\")\n",
    "# wandb.run.name = \"Rule Based Model\"\n",
    "lr_model_run.log({\"precision\": performance[\"precision\"], \"recall\": performance[\"recall\"], \"f1-score\": performance[\"f1\"]})"
   ]
  },
  {
   "cell_type": "code",
   "execution_count": null,
   "id": "56a8ce74-e65e-4ed2-aa41-6dc94a4f7f53",
   "metadata": {},
   "outputs": [],
   "source": [
    "# wandb.sklearn.plot_learning_curve(lr_model, X_train, y_train)"
   ]
  },
  {
   "cell_type": "code",
   "execution_count": 25,
   "id": "843f7385-7cb9-456d-9bc1-69fabd10d8a3",
   "metadata": {},
   "outputs": [
    {
     "data": {
      "text/html": [
       "Waiting for W&B process to finish... <strong style=\"color:green\">(success).</strong>"
      ],
      "text/plain": [
       "<IPython.core.display.HTML object>"
      ]
     },
     "metadata": {},
     "output_type": "display_data"
    },
    {
     "data": {
      "application/vnd.jupyter.widget-view+json": {
       "model_id": "",
       "version_major": 2,
       "version_minor": 0
      },
      "text/plain": [
       "VBox(children=(Label(value='0.001 MB of 0.001 MB uploaded (0.000 MB deduped)\\r'), FloatProgress(value=1.0, max…"
      ]
     },
     "metadata": {},
     "output_type": "display_data"
    },
    {
     "data": {
      "text/html": [
       "Synced <strong style=\"color:#cdcd00\">SGDClassifier</strong>: <a href=\"https://wandb.ai/alokpadhi/stackoverflow-quality/runs/18545vkf\" target=\"_blank\">https://wandb.ai/alokpadhi/stackoverflow-quality/runs/18545vkf</a><br/>Synced 4 W&B file(s), 0 media file(s), 0 artifact file(s) and 0 other file(s)"
      ],
      "text/plain": [
       "<IPython.core.display.HTML object>"
      ]
     },
     "metadata": {},
     "output_type": "display_data"
    },
    {
     "data": {
      "text/html": [
       "Find logs at: <code>./wandb/run-20220627_064310-18545vkf/logs</code>"
      ],
      "text/plain": [
       "<IPython.core.display.HTML object>"
      ]
     },
     "metadata": {},
     "output_type": "display_data"
    }
   ],
   "source": [
    "wandb.finish()"
   ]
  },
  {
   "cell_type": "code",
   "execution_count": 33,
   "id": "44188572-bca8-4d93-87c3-fceca6c54c9b",
   "metadata": {},
   "outputs": [],
   "source": [
    "# initialize model\n",
    "model = SGDClassifier(\n",
    "    loss=\"log\", penalty=\"l2\", alpha=1e-4, max_iter=1,\n",
    "    learning_rate=\"constant\", eta0=1e-1, power_t=0.1,\n",
    "    warm_start=True, early_stopping=True\n",
    ")"
   ]
  },
  {
   "cell_type": "code",
   "execution_count": 34,
   "id": "79ab4d86-79df-487e-bb89-9e0c7905929e",
   "metadata": {},
   "outputs": [],
   "source": [
    "config={\n",
    "    \"epochs\": 100,\n",
    "    \"loss\": \"log\",\n",
    "    \"penalty\": \"l2\",\n",
    "    \"alpha\": \"1e-4\"\n",
    "}"
   ]
  },
  {
   "cell_type": "code",
   "execution_count": 38,
   "id": "a8cbc37d-a573-4460-a500-d344b7969611",
   "metadata": {},
   "outputs": [
    {
     "data": {
      "text/html": [
       "Finishing last run (ID:20s1mj01) before initializing another..."
      ],
      "text/plain": [
       "<IPython.core.display.HTML object>"
      ]
     },
     "metadata": {},
     "output_type": "display_data"
    },
    {
     "data": {
      "text/html": [
       "Successfully finished last run (ID:20s1mj01). Initializing new run:<br/>"
      ],
      "text/plain": [
       "<IPython.core.display.HTML object>"
      ]
     },
     "metadata": {},
     "output_type": "display_data"
    },
    {
     "data": {
      "text/html": [
       "Tracking run with wandb version 0.12.19"
      ],
      "text/plain": [
       "<IPython.core.display.HTML object>"
      ]
     },
     "metadata": {},
     "output_type": "display_data"
    },
    {
     "data": {
      "text/html": [
       "Run data is saved locally in <code>/notebooks/stackoverflow/notebooks/modeling/wandb/run-20220627_065211-201oal4u</code>"
      ],
      "text/plain": [
       "<IPython.core.display.HTML object>"
      ]
     },
     "metadata": {},
     "output_type": "display_data"
    },
    {
     "data": {
      "text/html": [
       "Syncing run <strong><a href=\"https://wandb.ai/alokpadhi/stackoverflow-quality/runs/201oal4u\" target=\"_blank\">SGDClassifier</a></strong> to <a href=\"https://wandb.ai/alokpadhi/stackoverflow-quality\" target=\"_blank\">Weights & Biases</a> (<a href=\"https://wandb.me/run\" target=\"_blank\">docs</a>)<br/>"
      ],
      "text/plain": [
       "<IPython.core.display.HTML object>"
      ]
     },
     "metadata": {},
     "output_type": "display_data"
    }
   ],
   "source": [
    "sgd_model_run = wandb.init(project=\"stackoverflow-quality\", name=\"SGDClassifier\", config=config)"
   ]
  },
  {
   "cell_type": "code",
   "execution_count": 39,
   "id": "12b213c3-0b05-4a5b-ba3e-302f79ee1518",
   "metadata": {},
   "outputs": [
    {
     "name": "stdout",
     "output_type": "stream",
     "text": [
      "Epoch:  0 | train_loss:  0.72132, val_loss:  0.73096\n",
      "Epoch:  1 | train_loss:  0.65284, val_loss:  0.67171\n",
      "Epoch:  2 | train_loss:  0.61728, val_loss:  0.64321\n",
      "Epoch:  3 | train_loss:  0.59791, val_loss:  0.62841\n",
      "Epoch:  4 | train_loss:  0.59218, val_loss:  0.62552\n",
      "Epoch:  5 | train_loss:  0.58717, val_loss:  0.62288\n",
      "Epoch:  6 | train_loss:  0.57837, val_loss:  0.61630\n",
      "Epoch:  7 | train_loss:  0.57907, val_loss:  0.61757\n",
      "Epoch:  8 | train_loss:  0.57507, val_loss:  0.61500\n",
      "Epoch:  9 | train_loss:  0.57697, val_loss:  0.61697\n",
      "Epoch:  10 | train_loss:  0.57241, val_loss:  0.61350\n",
      "Epoch:  11 | train_loss:  0.57325, val_loss:  0.61488\n",
      "Epoch:  12 | train_loss:  0.57173, val_loss:  0.61362\n",
      "Epoch:  13 | train_loss:  0.57074, val_loss:  0.61274\n",
      "Epoch:  14 | train_loss:  0.57205, val_loss:  0.61421\n",
      "Epoch:  15 | train_loss:  0.57287, val_loss:  0.61492\n",
      "Epoch:  16 | train_loss:  0.57118, val_loss:  0.61328\n",
      "Epoch:  17 | train_loss:  0.57398, val_loss:  0.61630\n",
      "Epoch:  18 | train_loss:  0.56843, val_loss:  0.61154\n",
      "Epoch:  19 | train_loss:  0.57330, val_loss:  0.61538\n",
      "Epoch:  20 | train_loss:  0.57309, val_loss:  0.61530\n",
      "Epoch:  21 | train_loss:  0.57207, val_loss:  0.61464\n",
      "Epoch:  22 | train_loss:  0.57333, val_loss:  0.61540\n",
      "Epoch:  23 | train_loss:  0.57023, val_loss:  0.61282\n",
      "Epoch:  24 | train_loss:  0.57048, val_loss:  0.61327\n",
      "Epoch:  25 | train_loss:  0.57216, val_loss:  0.61459\n",
      "Epoch:  26 | train_loss:  0.56727, val_loss:  0.61049\n",
      "Epoch:  27 | train_loss:  0.57107, val_loss:  0.61378\n",
      "Epoch:  28 | train_loss:  0.57106, val_loss:  0.61401\n",
      "Epoch:  29 | train_loss:  0.57166, val_loss:  0.61399\n",
      "Epoch:  30 | train_loss:  0.56785, val_loss:  0.61083\n",
      "Epoch:  31 | train_loss:  0.56901, val_loss:  0.61171\n",
      "Epoch:  32 | train_loss:  0.57354, val_loss:  0.61556\n",
      "Epoch:  33 | train_loss:  0.57152, val_loss:  0.61402\n",
      "Epoch:  34 | train_loss:  0.56981, val_loss:  0.61267\n",
      "Epoch:  35 | train_loss:  0.56790, val_loss:  0.61056\n",
      "Epoch:  36 | train_loss:  0.57064, val_loss:  0.61331\n",
      "Epoch:  37 | train_loss:  0.57005, val_loss:  0.61265\n",
      "Epoch:  38 | train_loss:  0.57100, val_loss:  0.61367\n",
      "Epoch:  39 | train_loss:  0.57209, val_loss:  0.61433\n",
      "Epoch:  40 | train_loss:  0.56926, val_loss:  0.61161\n",
      "Epoch:  41 | train_loss:  0.57257, val_loss:  0.61496\n",
      "Epoch:  42 | train_loss:  0.57202, val_loss:  0.61429\n",
      "Epoch:  43 | train_loss:  0.57211, val_loss:  0.61514\n",
      "Epoch:  44 | train_loss:  0.57056, val_loss:  0.61303\n",
      "Epoch:  45 | train_loss:  0.57177, val_loss:  0.61445\n",
      "Epoch:  46 | train_loss:  0.56954, val_loss:  0.61235\n",
      "Epoch:  47 | train_loss:  0.57181, val_loss:  0.61423\n",
      "Epoch:  48 | train_loss:  0.57515, val_loss:  0.61686\n",
      "Epoch:  49 | train_loss:  0.57127, val_loss:  0.61379\n",
      "Epoch:  50 | train_loss:  0.56984, val_loss:  0.61265\n",
      "Epoch:  51 | train_loss:  0.57236, val_loss:  0.61439\n",
      "Epoch:  52 | train_loss:  0.57226, val_loss:  0.61442\n",
      "Epoch:  53 | train_loss:  0.57113, val_loss:  0.61322\n",
      "Epoch:  54 | train_loss:  0.57004, val_loss:  0.61287\n",
      "Epoch:  55 | train_loss:  0.57132, val_loss:  0.61408\n",
      "Epoch:  56 | train_loss:  0.57191, val_loss:  0.61491\n",
      "Epoch:  57 | train_loss:  0.57354, val_loss:  0.61589\n",
      "Epoch:  58 | train_loss:  0.56868, val_loss:  0.61154\n",
      "Epoch:  59 | train_loss:  0.57371, val_loss:  0.61595\n",
      "Epoch:  60 | train_loss:  0.57158, val_loss:  0.61420\n",
      "Epoch:  61 | train_loss:  0.57266, val_loss:  0.61509\n",
      "Epoch:  62 | train_loss:  0.57060, val_loss:  0.61362\n",
      "Epoch:  63 | train_loss:  0.56960, val_loss:  0.61294\n",
      "Epoch:  64 | train_loss:  0.57332, val_loss:  0.61533\n",
      "Epoch:  65 | train_loss:  0.57327, val_loss:  0.61517\n",
      "Epoch:  66 | train_loss:  0.57140, val_loss:  0.61359\n",
      "Epoch:  67 | train_loss:  0.57187, val_loss:  0.61432\n",
      "Epoch:  68 | train_loss:  0.57147, val_loss:  0.61345\n",
      "Epoch:  69 | train_loss:  0.56895, val_loss:  0.61169\n",
      "Epoch:  70 | train_loss:  0.56883, val_loss:  0.61149\n",
      "Epoch:  71 | train_loss:  0.57199, val_loss:  0.61435\n",
      "Epoch:  72 | train_loss:  0.57111, val_loss:  0.61325\n",
      "Epoch:  73 | train_loss:  0.57008, val_loss:  0.61241\n",
      "Epoch:  74 | train_loss:  0.57175, val_loss:  0.61400\n",
      "Epoch:  75 | train_loss:  0.57128, val_loss:  0.61364\n",
      "Epoch:  76 | train_loss:  0.57221, val_loss:  0.61455\n",
      "Epoch:  77 | train_loss:  0.57201, val_loss:  0.61433\n",
      "Epoch:  78 | train_loss:  0.57089, val_loss:  0.61355\n",
      "Epoch:  79 | train_loss:  0.56962, val_loss:  0.61274\n",
      "Epoch:  80 | train_loss:  0.57261, val_loss:  0.61458\n",
      "Epoch:  81 | train_loss:  0.57149, val_loss:  0.61396\n",
      "Epoch:  82 | train_loss:  0.57286, val_loss:  0.61510\n",
      "Epoch:  83 | train_loss:  0.56859, val_loss:  0.61176\n",
      "Epoch:  84 | train_loss:  0.57181, val_loss:  0.61409\n",
      "Epoch:  85 | train_loss:  0.57021, val_loss:  0.61246\n",
      "Epoch:  86 | train_loss:  0.57097, val_loss:  0.61314\n",
      "Epoch:  87 | train_loss:  0.57143, val_loss:  0.61326\n",
      "Epoch:  88 | train_loss:  0.57300, val_loss:  0.61546\n",
      "Epoch:  89 | train_loss:  0.57395, val_loss:  0.61611\n",
      "Epoch:  90 | train_loss:  0.56975, val_loss:  0.61256\n",
      "Epoch:  91 | train_loss:  0.57388, val_loss:  0.61578\n",
      "Epoch:  92 | train_loss:  0.57118, val_loss:  0.61366\n",
      "Epoch:  93 | train_loss:  0.56876, val_loss:  0.61151\n",
      "Epoch:  94 | train_loss:  0.57181, val_loss:  0.61401\n",
      "Epoch:  95 | train_loss:  0.57276, val_loss:  0.61500\n",
      "Epoch:  96 | train_loss:  0.56779, val_loss:  0.61087\n",
      "Epoch:  97 | train_loss:  0.57019, val_loss:  0.61278\n",
      "Epoch:  98 | train_loss:  0.56962, val_loss:  0.61234\n",
      "Epoch:  99 | train_loss:  0.57057, val_loss:  0.61291\n"
     ]
    }
   ],
   "source": [
    "num_epochs = 100\n",
    "for epoch in range(num_epochs):\n",
    "    model.fit(X_train, y_train)\n",
    "    \n",
    "    y_train_pred = model.predict_proba(X_train)\n",
    "    train_loss = log_loss(y_train, y_train_pred)\n",
    "    \n",
    "    y_val_pred = model.predict_proba(X_val)\n",
    "    val_loss = log_loss(y_val, y_val_pred)\n",
    "    \n",
    "    wandb.log({\"train_loss\": train_loss})\n",
    "    wandb.log({\"valid_loss\": val_loss})\n",
    "    \n",
    "    print(\n",
    "        f\"Epoch: {epoch: 02d} | \"\n",
    "        f\"train_loss: {train_loss: .5f}, \"\n",
    "        f\"val_loss: {val_loss: .5f}\")"
   ]
  },
  {
   "cell_type": "code",
   "execution_count": 40,
   "id": "0a178bf9-1ac4-4c3c-8690-b953196ae8c8",
   "metadata": {},
   "outputs": [
    {
     "name": "stdout",
     "output_type": "stream",
     "text": [
      "{\n",
      "  \"precision\": 0.7984095150014032,\n",
      "  \"recall\": 0.7935120722855873,\n",
      "  \"f1\": 0.7897254458048573\n",
      "}\n"
     ]
    }
   ],
   "source": [
    "y_pred = model.predict(X_test)\n",
    "y_pred_proba = model.predict_proba(X_test)\n",
    "metrics = precision_recall_fscore_support(y_test, y_pred, average=\"weighted\")\n",
    "performance = {\"precision\": metrics[0], \"recall\": metrics[1], \"f1\": metrics[2]}\n",
    "print(json.dumps(performance, indent=2))"
   ]
  },
  {
   "cell_type": "code",
   "execution_count": 41,
   "id": "da25fe86-33b3-42b6-b6a5-25330faefa83",
   "metadata": {},
   "outputs": [],
   "source": [
    "sgd_model_run.log({\"precision\": performance[\"precision\"], \"recall\": performance[\"recall\"], \"f1-score\": performance[\"f1\"]})"
   ]
  },
  {
   "cell_type": "code",
   "execution_count": null,
   "id": "539eb8fe-19b3-4fc2-8f15-5211f24becc4",
   "metadata": {},
   "outputs": [],
   "source": []
  }
 ],
 "metadata": {
  "kernelspec": {
   "display_name": "Python 3 (ipykernel)",
   "language": "python",
   "name": "python3"
  },
  "language_info": {
   "codemirror_mode": {
    "name": "ipython",
    "version": 3
   },
   "file_extension": ".py",
   "mimetype": "text/x-python",
   "name": "python",
   "nbconvert_exporter": "python",
   "pygments_lexer": "ipython3",
   "version": "3.8.12"
  }
 },
 "nbformat": 4,
 "nbformat_minor": 5
}
