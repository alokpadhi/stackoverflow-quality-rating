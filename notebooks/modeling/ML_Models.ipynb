{
 "cells": [
  {
   "cell_type": "code",
   "execution_count": 1,
   "id": "2439dbdc-b0a7-464f-8723-1bf1b0ee6413",
   "metadata": {},
   "outputs": [
    {
     "name": "stdout",
     "output_type": "stream",
     "text": [
      "Looking in indexes: https://pypi.org/simple, https://pypi.ngc.nvidia.com\n",
      "Requirement already satisfied: seaborn in /opt/conda/lib/python3.8/site-packages (0.11.2)\n",
      "Requirement already satisfied: pandas>=0.23 in /opt/conda/lib/python3.8/site-packages (from seaborn) (1.3.5)\n",
      "Requirement already satisfied: matplotlib>=2.2 in /opt/conda/lib/python3.8/site-packages (from seaborn) (3.5.1)\n",
      "Requirement already satisfied: scipy>=1.0 in /opt/conda/lib/python3.8/site-packages (from seaborn) (1.6.3)\n",
      "Requirement already satisfied: numpy>=1.15 in /opt/conda/lib/python3.8/site-packages (from seaborn) (1.22.2)\n",
      "Requirement already satisfied: packaging>=20.0 in /opt/conda/lib/python3.8/site-packages (from matplotlib>=2.2->seaborn) (21.3)\n",
      "Requirement already satisfied: kiwisolver>=1.0.1 in /opt/conda/lib/python3.8/site-packages (from matplotlib>=2.2->seaborn) (1.3.2)\n",
      "Requirement already satisfied: cycler>=0.10 in /opt/conda/lib/python3.8/site-packages (from matplotlib>=2.2->seaborn) (0.11.0)\n",
      "Requirement already satisfied: pillow>=6.2.0 in /opt/conda/lib/python3.8/site-packages (from matplotlib>=2.2->seaborn) (9.0.0)\n",
      "Requirement already satisfied: pyparsing>=2.2.1 in /opt/conda/lib/python3.8/site-packages (from matplotlib>=2.2->seaborn) (3.0.7)\n",
      "Requirement already satisfied: fonttools>=4.22.0 in /opt/conda/lib/python3.8/site-packages (from matplotlib>=2.2->seaborn) (4.29.1)\n",
      "Requirement already satisfied: python-dateutil>=2.7 in /opt/conda/lib/python3.8/site-packages (from matplotlib>=2.2->seaborn) (2.8.2)\n",
      "Requirement already satisfied: pytz>=2017.3 in /opt/conda/lib/python3.8/site-packages (from pandas>=0.23->seaborn) (2021.3)\n",
      "Requirement already satisfied: six>=1.5 in /opt/conda/lib/python3.8/site-packages (from python-dateutil>=2.7->matplotlib>=2.2->seaborn) (1.16.0)\n",
      "\u001b[33mWARNING: Running pip as the 'root' user can result in broken permissions and conflicting behaviour with the system package manager. It is recommended to use a virtual environment instead: https://pip.pypa.io/warnings/venv\u001b[0m\n",
      "Note: you may need to restart the kernel to use updated packages.\n"
     ]
    }
   ],
   "source": [
    "%pip install seaborn"
   ]
  },
  {
   "cell_type": "code",
   "execution_count": 2,
   "id": "0fb479c7-1ebc-4eb0-86cf-5950bc8579f8",
   "metadata": {},
   "outputs": [
    {
     "name": "stdout",
     "output_type": "stream",
     "text": [
      "Looking in indexes: https://pypi.org/simple, https://pypi.ngc.nvidia.com\n",
      "Requirement already satisfied: wandb in /opt/conda/lib/python3.8/site-packages (0.12.19)\n",
      "Requirement already satisfied: psutil>=5.0.0 in /opt/conda/lib/python3.8/site-packages (from wandb) (5.9.0)\n",
      "Requirement already satisfied: docker-pycreds>=0.4.0 in /opt/conda/lib/python3.8/site-packages (from wandb) (0.4.0)\n",
      "Requirement already satisfied: Click!=8.0.0,>=7.0 in /opt/conda/lib/python3.8/site-packages (from wandb) (8.0.3)\n",
      "Requirement already satisfied: promise<3,>=2.0 in /opt/conda/lib/python3.8/site-packages (from wandb) (2.3)\n",
      "Requirement already satisfied: sentry-sdk>=1.0.0 in /opt/conda/lib/python3.8/site-packages (from wandb) (1.6.0)\n",
      "Requirement already satisfied: shortuuid>=0.5.0 in /opt/conda/lib/python3.8/site-packages (from wandb) (1.0.9)\n",
      "Requirement already satisfied: setuptools in /opt/conda/lib/python3.8/site-packages (from wandb) (59.5.0)\n",
      "Requirement already satisfied: setproctitle in /opt/conda/lib/python3.8/site-packages (from wandb) (1.2.3)\n",
      "Requirement already satisfied: protobuf<4.0dev,>=3.12.0 in /opt/conda/lib/python3.8/site-packages (from wandb) (3.19.4)\n",
      "Requirement already satisfied: PyYAML in /opt/conda/lib/python3.8/site-packages (from wandb) (5.4.1)\n",
      "Requirement already satisfied: six>=1.13.0 in /opt/conda/lib/python3.8/site-packages (from wandb) (1.16.0)\n",
      "Requirement already satisfied: pathtools in /opt/conda/lib/python3.8/site-packages (from wandb) (0.1.2)\n",
      "Requirement already satisfied: GitPython>=1.0.0 in /opt/conda/lib/python3.8/site-packages (from wandb) (3.1.27)\n",
      "Requirement already satisfied: requests<3,>=2.0.0 in /opt/conda/lib/python3.8/site-packages (from wandb) (2.26.0)\n",
      "Requirement already satisfied: gitdb<5,>=4.0.1 in /opt/conda/lib/python3.8/site-packages (from GitPython>=1.0.0->wandb) (4.0.9)\n",
      "Requirement already satisfied: smmap<6,>=3.0.1 in /opt/conda/lib/python3.8/site-packages (from gitdb<5,>=4.0.1->GitPython>=1.0.0->wandb) (5.0.0)\n",
      "Requirement already satisfied: certifi>=2017.4.17 in /opt/conda/lib/python3.8/site-packages (from requests<3,>=2.0.0->wandb) (2021.10.8)\n",
      "Requirement already satisfied: urllib3<1.27,>=1.21.1 in /opt/conda/lib/python3.8/site-packages (from requests<3,>=2.0.0->wandb) (1.26.7)\n",
      "Requirement already satisfied: charset-normalizer~=2.0.0 in /opt/conda/lib/python3.8/site-packages (from requests<3,>=2.0.0->wandb) (2.0.9)\n",
      "Requirement already satisfied: idna<4,>=2.5 in /opt/conda/lib/python3.8/site-packages (from requests<3,>=2.0.0->wandb) (3.1)\n",
      "\u001b[33mWARNING: Running pip as the 'root' user can result in broken permissions and conflicting behaviour with the system package manager. It is recommended to use a virtual environment instead: https://pip.pypa.io/warnings/venv\u001b[0m\n"
     ]
    }
   ],
   "source": [
    "\n",
    "# Weights and Bias to version the dataset and experiment tracking\n",
    "!pip install wandb"
   ]
  },
  {
   "cell_type": "code",
   "execution_count": 3,
   "id": "8fcddf42-778d-4195-85f2-62689b2ce2a1",
   "metadata": {},
   "outputs": [],
   "source": [
    "import nltk\n",
    "from nltk.corpus import stopwords\n",
    "from nltk.stem import PorterStemmer\n",
    "import re"
   ]
  },
  {
   "cell_type": "code",
   "execution_count": 4,
   "id": "e677f699-49cf-47ef-888b-23bfef76a124",
   "metadata": {},
   "outputs": [],
   "source": [
    "import pandas as pd\n",
    "import numpy as np\n",
    "import matplotlib.pyplot as plt\n",
    "import seaborn as sns\n",
    "sns.set_theme(style=\"darkgrid\")\n",
    "import warnings\n",
    "warnings.filterwarnings(\"ignore\")"
   ]
  },
  {
   "cell_type": "code",
   "execution_count": 5,
   "id": "b33139c9-0e1a-4b2b-95d7-ab01681a8f01",
   "metadata": {},
   "outputs": [],
   "source": [
    "import wandb"
   ]
  },
  {
   "cell_type": "code",
   "execution_count": 6,
   "id": "557b6b9d-7be0-4eb0-8c9e-260188072fd9",
   "metadata": {},
   "outputs": [
    {
     "name": "stderr",
     "output_type": "stream",
     "text": [
      "\u001b[34m\u001b[1mwandb\u001b[0m: Logging into wandb.ai. (Learn how to deploy a W&B server locally: https://wandb.me/wandb-server)\n",
      "\u001b[34m\u001b[1mwandb\u001b[0m: You can find your API key in your browser here: https://wandb.ai/authorize\n"
     ]
    },
    {
     "name": "stdin",
     "output_type": "stream",
     "text": [
      "\u001b[34m\u001b[1mwandb\u001b[0m: Paste an API key from your profile and hit enter, or press ctrl+c to quit:  ········································\n"
     ]
    },
    {
     "name": "stderr",
     "output_type": "stream",
     "text": [
      "\u001b[34m\u001b[1mwandb\u001b[0m: Appending key for api.wandb.ai to your netrc file: /root/.netrc\n"
     ]
    },
    {
     "data": {
      "text/plain": [
       "True"
      ]
     },
     "execution_count": 6,
     "metadata": {},
     "output_type": "execute_result"
    }
   ],
   "source": [
    "wandb.login()"
   ]
  },
  {
   "cell_type": "code",
   "execution_count": 7,
   "id": "597c1d39-b688-45ae-97d3-82677dd5db0b",
   "metadata": {},
   "outputs": [],
   "source": [
    "import json\n",
    "import random"
   ]
  },
  {
   "cell_type": "code",
   "execution_count": 8,
   "id": "92eb5cb5-50fd-466c-ba2b-58e9f88510f5",
   "metadata": {},
   "outputs": [],
   "source": [
    "# Label encoder to encode class labels\n",
    "class LabelEncoder(object):\n",
    "    \"\"\"Encode labels into unqiue ids/integers\"\"\"\n",
    "    def __init__(self, class_to_index={}):\n",
    "        self.class_to_index = class_to_index or {}\n",
    "        self.index_to_class = {v:k for k, v in self.class_to_index.items()}\n",
    "        self.classes = list(self.class_to_index.keys())\n",
    "        \n",
    "    def __len__(self):\n",
    "        return len(self.class_to_index)\n",
    "    \n",
    "    def __str__(self):\n",
    "        return f\"<LabelEncoder(num_classes={len(self)})>\"\n",
    "    \n",
    "    def fit(self, y):\n",
    "        classes = np.unique(y)\n",
    "        for i, class_ in enumerate(classes):\n",
    "            self.class_to_index[class_] = i\n",
    "        self.index_to_class = {v:k for k, v in self.class_to_index.items()}\n",
    "        self.classes = list(self.class_to_index.keys())\n",
    "        return self\n",
    "    \n",
    "    def encode(self, y):\n",
    "        encoded = np.zeros(len(y), dtype=int)\n",
    "        for i, item in enumerate(y):\n",
    "            encoded[i] = self.class_to_index[item]\n",
    "        return encoded\n",
    "    \n",
    "    def decode(self, y):\n",
    "        classes = []\n",
    "        for i, item in enumerate(y):\n",
    "            classes.append(self.index_to_class[item])\n",
    "            \n",
    "        return classes\n",
    "    \n",
    "    def save(self, fp):\n",
    "        with open(fp, \"w\") as fp:\n",
    "            contents = {\"class_to_index\": self.class_to_index}\n",
    "            json.dump(contents, fp, indent=4, sort_keys=False)\n",
    "    \n",
    "    @classmethod\n",
    "    def load(cls, fp):\n",
    "        with open(fp, \"r\") as fp:\n",
    "            kwargs = json.load(fp=fp)\n",
    "        return cls(**kwargs)"
   ]
  },
  {
   "cell_type": "code",
   "execution_count": 9,
   "id": "70dd1b4f-2558-4d1c-93e5-c8251bc1b106",
   "metadata": {},
   "outputs": [],
   "source": [
    "label_encoder = LabelEncoder.load(\"../../artifacts/label_encoder.json\")"
   ]
  },
  {
   "cell_type": "code",
   "execution_count": 10,
   "id": "935779fd-d28c-4b8d-a232-8f87aed2d5ae",
   "metadata": {},
   "outputs": [],
   "source": [
    "train_df = pd.read_parquet(\"../../datasets/V1/train.parquet\")\n",
    "val_df = pd.read_parquet(\"../../datasets/V1/valid.parquet\")\n",
    "test_df = pd.read_parquet(\"../../datasets/V1//test.parquet\")"
   ]
  },
  {
   "cell_type": "code",
   "execution_count": 11,
   "id": "ad193ba2-0eeb-4cd2-8ca1-80db391b6379",
   "metadata": {},
   "outputs": [
    {
     "data": {
      "text/plain": [
       "((31499, 2), (6750, 2), (6751, 2))"
      ]
     },
     "execution_count": 11,
     "metadata": {},
     "output_type": "execute_result"
    }
   ],
   "source": [
    "# validate shapes\n",
    "train_df.shape, val_df.shape, test_df.shape"
   ]
  },
  {
   "cell_type": "code",
   "execution_count": 12,
   "id": "d4c0396f-81a3-489d-8355-46825b9c8735",
   "metadata": {},
   "outputs": [],
   "source": [
    "# Feature and target\n",
    "X_train = train_df.text.to_numpy()\n",
    "y_train = train_df.rating\n",
    "\n",
    "X_val =  val_df.text.to_numpy()\n",
    "y_val = val_df.rating\n",
    "\n",
    "X_test = test_df.text.to_numpy()\n",
    "y_test = test_df.rating"
   ]
  },
  {
   "cell_type": "code",
   "execution_count": 13,
   "id": "4963588c-02f4-4ba5-b978-0ba257a92c6a",
   "metadata": {},
   "outputs": [],
   "source": [
    "# Encode all our labels\n",
    "y_train = label_encoder.encode(y_train)\n",
    "\n",
    "y_val = label_encoder.encode(y_val)\n",
    "\n",
    "y_test = label_encoder.encode(y_test)"
   ]
  },
  {
   "cell_type": "code",
   "execution_count": 14,
   "id": "fdc995e5-296a-4944-8e46-fa69006cc1fe",
   "metadata": {},
   "outputs": [],
   "source": [
    "def set_seeds(seed=42):\n",
    "    \"\"\"Set seeds for reproducibility\"\"\"\n",
    "    np.random.seed(seed)\n",
    "    random.seed(seed)"
   ]
  },
  {
   "cell_type": "code",
   "execution_count": 15,
   "id": "524357be-f98a-4313-a910-dcfcaebc705d",
   "metadata": {},
   "outputs": [],
   "source": [
    "set_seeds()"
   ]
  },
  {
   "cell_type": "code",
   "execution_count": 16,
   "id": "7301224b-98f8-45bd-8caa-af82dbd026a4",
   "metadata": {},
   "outputs": [],
   "source": [
    "from sklearn.feature_extraction.text import TfidfVectorizer"
   ]
  },
  {
   "cell_type": "code",
   "execution_count": 17,
   "id": "e1b03012-732c-4f6a-9790-250da2d5be5c",
   "metadata": {},
   "outputs": [],
   "source": [
    "# saving raw X_test to compare later\n",
    "X_test_raw = X_test"
   ]
  },
  {
   "cell_type": "code",
   "execution_count": 18,
   "id": "77026041-8024-470e-9720-401eadda5935",
   "metadata": {},
   "outputs": [],
   "source": [
    "vectorizer = TfidfVectorizer(analyzer=\"char\", ngram_range=(2,7)) # character n-gram"
   ]
  },
  {
   "cell_type": "code",
   "execution_count": 20,
   "id": "db7ad7b0-54a9-4806-ab1a-f00c02d76703",
   "metadata": {},
   "outputs": [],
   "source": [
    "X_train = vectorizer.fit_transform(X_train)"
   ]
  },
  {
   "cell_type": "code",
   "execution_count": 19,
   "id": "b7948412-793d-46b8-b65e-0a365dd39058",
   "metadata": {},
   "outputs": [],
   "source": [
    "import pickle"
   ]
  },
  {
   "cell_type": "code",
   "execution_count": 21,
   "id": "3c4a2451-0f96-4f10-afbb-620199b42ad5",
   "metadata": {},
   "outputs": [],
   "source": [
    "with open('../../artifacts/vectorizer.pkl', 'wb') as fp:\n",
    "    pickle.dump(vectorizer, fp)"
   ]
  },
  {
   "cell_type": "code",
   "execution_count": 69,
   "id": "d35079db-ce66-4fad-ae67-aaebd25c68b6",
   "metadata": {},
   "outputs": [
    {
     "data": {
      "text/html": [
       "Finishing last run (ID:1ds6g2f8) before initializing another..."
      ],
      "text/plain": [
       "<IPython.core.display.HTML object>"
      ]
     },
     "metadata": {},
     "output_type": "display_data"
    },
    {
     "data": {
      "text/html": [
       "Waiting for W&B process to finish... <strong style=\"color:green\">(success).</strong>"
      ],
      "text/plain": [
       "<IPython.core.display.HTML object>"
      ]
     },
     "metadata": {},
     "output_type": "display_data"
    },
    {
     "data": {
      "application/vnd.jupyter.widget-view+json": {
       "model_id": "",
       "version_major": 2,
       "version_minor": 0
      },
      "text/plain": [
       "VBox(children=(Label(value='179.238 MB of 179.238 MB uploaded (179.238 MB deduped)\\r'), FloatProgress(value=1.…"
      ]
     },
     "metadata": {},
     "output_type": "display_data"
    },
    {
     "data": {
      "text/html": [
       "W&B sync reduced upload amount by 100.0%             "
      ],
      "text/plain": [
       "<IPython.core.display.HTML object>"
      ]
     },
     "metadata": {},
     "output_type": "display_data"
    },
    {
     "data": {
      "text/html": [
       "Synced <strong style=\"color:#cdcd00\">TFIDFVectorizer</strong>: <a href=\"https://wandb.ai/alokpadhi/stackoverflow-qualtiy/runs/1ds6g2f8\" target=\"_blank\">https://wandb.ai/alokpadhi/stackoverflow-qualtiy/runs/1ds6g2f8</a><br/>Synced 4 W&B file(s), 0 media file(s), 1 artifact file(s) and 0 other file(s)"
      ],
      "text/plain": [
       "<IPython.core.display.HTML object>"
      ]
     },
     "metadata": {},
     "output_type": "display_data"
    },
    {
     "data": {
      "text/html": [
       "Find logs at: <code>./wandb/run-20220627_145524-1ds6g2f8/logs</code>"
      ],
      "text/plain": [
       "<IPython.core.display.HTML object>"
      ]
     },
     "metadata": {},
     "output_type": "display_data"
    },
    {
     "data": {
      "text/html": [
       "Successfully finished last run (ID:1ds6g2f8). Initializing new run:<br/>"
      ],
      "text/plain": [
       "<IPython.core.display.HTML object>"
      ]
     },
     "metadata": {},
     "output_type": "display_data"
    },
    {
     "data": {
      "text/html": [
       "Tracking run with wandb version 0.12.19"
      ],
      "text/plain": [
       "<IPython.core.display.HTML object>"
      ]
     },
     "metadata": {},
     "output_type": "display_data"
    },
    {
     "data": {
      "text/html": [
       "Run data is saved locally in <code>/notebooks/stackoverflow/notebooks/modeling/wandb/run-20220627_145740-2vhf17ru</code>"
      ],
      "text/plain": [
       "<IPython.core.display.HTML object>"
      ]
     },
     "metadata": {},
     "output_type": "display_data"
    },
    {
     "data": {
      "text/html": [
       "Syncing run <strong><a href=\"https://wandb.ai/alokpadhi/stackoverflow-quality/runs/2vhf17ru\" target=\"_blank\">TFIDFVectorizer</a></strong> to <a href=\"https://wandb.ai/alokpadhi/stackoverflow-quality\" target=\"_blank\">Weights & Biases</a> (<a href=\"https://wandb.me/run\" target=\"_blank\">docs</a>)<br/>"
      ],
      "text/plain": [
       "<IPython.core.display.HTML object>"
      ]
     },
     "metadata": {},
     "output_type": "display_data"
    }
   ],
   "source": [
    "run = wandb.init(project=\"stackoverflow-quality\", name=\"TFIDFVectorizer\")"
   ]
  },
  {
   "cell_type": "code",
   "execution_count": 70,
   "id": "6cd62bd1-0026-44fa-8468-a8cf195e5689",
   "metadata": {},
   "outputs": [],
   "source": [
    "metadata = dict(\n",
    "    vectorizer=\"TFIDF\"\n",
    ")"
   ]
  },
  {
   "cell_type": "code",
   "execution_count": 71,
   "id": "65a9e3bb-be36-4525-b20e-8f121a854780",
   "metadata": {},
   "outputs": [],
   "source": [
    "from pathlib import Path"
   ]
  },
  {
   "cell_type": "code",
   "execution_count": 72,
   "id": "e0677123-1a18-4e94-9013-335c693f09c0",
   "metadata": {},
   "outputs": [
    {
     "data": {
      "text/plain": [
       "<wandb.sdk.wandb_artifacts.Artifact at 0x7fb76a76fb80>"
      ]
     },
     "execution_count": 72,
     "metadata": {},
     "output_type": "execute_result"
    }
   ],
   "source": [
    "vect_artifacts = wandb.Artifact(\"vectorizer_artifacts\", type=\"preprcossing_data\", metadata=metadata, description=\"TFIDF vectorizer in pickle format\")\n",
    "vect_artifacts.add_file(Path(\"../../artifacts/vectorizer.pkl\"))\n",
    "run.log_artifact(vect_artifacts)"
   ]
  },
  {
   "cell_type": "code",
   "execution_count": 27,
   "id": "4cfe70a4-4684-4b93-89ad-8478c4da27a9",
   "metadata": {},
   "outputs": [],
   "source": [
    "X_val = vectorizer.transform(X_val)\n",
    "X_test = vectorizer.transform(X_test)"
   ]
  },
  {
   "cell_type": "code",
   "execution_count": 28,
   "id": "9dba33e9-8428-42a1-8d0c-b0e1a9433628",
   "metadata": {},
   "outputs": [
    {
     "name": "stdout",
     "output_type": "stream",
     "text": [
      "(31499, 6215674)\n"
     ]
    }
   ],
   "source": [
    "print(X_train.shape)"
   ]
  },
  {
   "cell_type": "code",
   "execution_count": 29,
   "id": "440220d0-dc77-4090-a4df-a509ec9d8806",
   "metadata": {},
   "outputs": [
    {
     "name": "stdout",
     "output_type": "stream",
     "text": [
      "class counts: [10499 10500 10500],\n",
      "class weights: {0: 9.524716639679969e-05, 1: 9.523809523809524e-05, 2: 9.523809523809524e-05}\n"
     ]
    }
   ],
   "source": [
    "# class weights\n",
    "counts = np.bincount(y_train)\n",
    "class_weights = {i: 1.0/count for i, count in enumerate(counts)}\n",
    "print(f\"class counts: {counts},\\nclass weights: {class_weights}\")"
   ]
  },
  {
   "cell_type": "code",
   "execution_count": 30,
   "id": "ab012e2b-206f-4d0f-8063-cdadeeeaa1cb",
   "metadata": {},
   "outputs": [],
   "source": [
    "from sklearn import metrics\n",
    "from sklearn.linear_model import LogisticRegression\n",
    "from sklearn.linear_model import SGDClassifier\n",
    "from sklearn.metrics import log_loss, precision_recall_fscore_support"
   ]
  },
  {
   "cell_type": "code",
   "execution_count": 31,
   "id": "a38559fe-fc8a-4f0f-93e5-3c9ba83ee9b8",
   "metadata": {},
   "outputs": [],
   "source": [
    "lr_model = LogisticRegression(C=1)"
   ]
  },
  {
   "cell_type": "code",
   "execution_count": 32,
   "id": "fa8548a0-ed14-4f30-8ff6-f68e59d27adb",
   "metadata": {},
   "outputs": [
    {
     "data": {
      "text/plain": [
       "LogisticRegression(C=1)"
      ]
     },
     "execution_count": 32,
     "metadata": {},
     "output_type": "execute_result"
    }
   ],
   "source": [
    "lr_model.fit(X_train, y_train)"
   ]
  },
  {
   "cell_type": "code",
   "execution_count": 33,
   "id": "d0baa7ce-6fb8-44b3-b3e5-b5bd4c0ead92",
   "metadata": {},
   "outputs": [
    {
     "name": "stdout",
     "output_type": "stream",
     "text": [
      "{\n",
      "  \"precision\": 0.8208461977458574,\n",
      "  \"recall\": 0.8204710413272108,\n",
      "  \"f1\": 0.8189114615101143\n",
      "}\n"
     ]
    }
   ],
   "source": [
    "y_pred = lr_model.predict(X_test)\n",
    "y_pred_proba = lr_model.predict_proba(X_test)\n",
    "metrics = precision_recall_fscore_support(y_test, y_pred, average=\"weighted\")\n",
    "performance = {\"precision\": metrics[0], \"recall\": metrics[1], \"f1\": metrics[2]}\n",
    "print(json.dumps(performance, indent=2))"
   ]
  },
  {
   "cell_type": "code",
   "execution_count": 34,
   "id": "76a7c844-04d3-4576-8210-482dc374f29f",
   "metadata": {},
   "outputs": [
    {
     "data": {
      "text/html": [
       "Waiting for W&B process to finish... <strong style=\"color:green\">(success).</strong>"
      ],
      "text/plain": [
       "<IPython.core.display.HTML object>"
      ]
     },
     "metadata": {},
     "output_type": "display_data"
    },
    {
     "data": {
      "application/vnd.jupyter.widget-view+json": {
       "model_id": "",
       "version_major": 2,
       "version_minor": 0
      },
      "text/plain": [
       "VBox(children=(Label(value='179.238 MB of 179.238 MB uploaded (0.000 MB deduped)\\r'), FloatProgress(value=1.0,…"
      ]
     },
     "metadata": {},
     "output_type": "display_data"
    },
    {
     "data": {
      "text/html": [
       "Synced <strong style=\"color:#cdcd00\">TFIDFVectorizer</strong>: <a href=\"https://wandb.ai/alokpadhi/stackoverflow-qualtiy/runs/1qjn98tb\" target=\"_blank\">https://wandb.ai/alokpadhi/stackoverflow-qualtiy/runs/1qjn98tb</a><br/>Synced 5 W&B file(s), 0 media file(s), 2 artifact file(s) and 0 other file(s)"
      ],
      "text/plain": [
       "<IPython.core.display.HTML object>"
      ]
     },
     "metadata": {},
     "output_type": "display_data"
    },
    {
     "data": {
      "text/html": [
       "Find logs at: <code>./wandb/run-20220627_140505-1qjn98tb/logs</code>"
      ],
      "text/plain": [
       "<IPython.core.display.HTML object>"
      ]
     },
     "metadata": {},
     "output_type": "display_data"
    }
   ],
   "source": [
    "wandb.finish()"
   ]
  },
  {
   "cell_type": "code",
   "execution_count": 35,
   "id": "f36603df-ec3c-483f-b18c-9c7228a9d552",
   "metadata": {},
   "outputs": [
    {
     "data": {
      "text/html": [
       "Tracking run with wandb version 0.12.19"
      ],
      "text/plain": [
       "<IPython.core.display.HTML object>"
      ]
     },
     "metadata": {},
     "output_type": "display_data"
    },
    {
     "data": {
      "text/html": [
       "Run data is saved locally in <code>/notebooks/stackoverflow/notebooks/modeling/wandb/run-20220627_142228-p0584gzs</code>"
      ],
      "text/plain": [
       "<IPython.core.display.HTML object>"
      ]
     },
     "metadata": {},
     "output_type": "display_data"
    },
    {
     "data": {
      "text/html": [
       "Syncing run <strong><a href=\"https://wandb.ai/alokpadhi/stackoverflow-quality/runs/p0584gzs\" target=\"_blank\">LogisticRegression</a></strong> to <a href=\"https://wandb.ai/alokpadhi/stackoverflow-quality\" target=\"_blank\">Weights & Biases</a> (<a href=\"https://wandb.me/run\" target=\"_blank\">docs</a>)<br/>"
      ],
      "text/plain": [
       "<IPython.core.display.HTML object>"
      ]
     },
     "metadata": {},
     "output_type": "display_data"
    }
   ],
   "source": [
    "lr_model_run = wandb.init(project=\"stackoverflow-quality\", name=\"LogisticRegression\")\n",
    "# wandb.run.name = \"Rule Based Model\"\n",
    "lr_model_run.log({\"precision\": performance[\"precision\"], \"recall\": performance[\"recall\"], \"f1-score\": performance[\"f1\"]})"
   ]
  },
  {
   "cell_type": "code",
   "execution_count": 36,
   "id": "190297e1-7c19-495b-b181-b1dd20c9704a",
   "metadata": {},
   "outputs": [],
   "source": [
    "with open(\"../../model-artifacts/log-reg.pkl\", \"wb\") as fp:\n",
    "    pickle.dump(lr_model, fp)"
   ]
  },
  {
   "cell_type": "code",
   "execution_count": 38,
   "id": "42e4c245-bfee-4040-9f59-12d4b72899f2",
   "metadata": {},
   "outputs": [
    {
     "data": {
      "text/plain": [
       "'LogisticRegression'"
      ]
     },
     "execution_count": 38,
     "metadata": {},
     "output_type": "execute_result"
    }
   ],
   "source": [
    "wandb.run.name"
   ]
  },
  {
   "cell_type": "code",
   "execution_count": 40,
   "id": "2bebc7ad-adb3-4a5f-9ab6-34bc4054de28",
   "metadata": {},
   "outputs": [
    {
     "data": {
      "text/plain": [
       "<wandb.sdk.wandb_artifacts.Artifact at 0x7fb75779ac40>"
      ]
     },
     "execution_count": 40,
     "metadata": {},
     "output_type": "execute_result"
    }
   ],
   "source": [
    "# model versioning\n",
    "model_art = wandb.Artifact(f\"{wandb.run.name}_{wandb.run.id}\", type=\"model\")\n",
    "model_art.add_file('../../model-artifacts/log-reg.pkl')\n",
    "lr_model_run.log_artifact(model_art)"
   ]
  },
  {
   "cell_type": "code",
   "execution_count": null,
   "id": "56a8ce74-e65e-4ed2-aa41-6dc94a4f7f53",
   "metadata": {},
   "outputs": [],
   "source": [
    "# wandb.sklearn.plot_learning_curve(lr_model, X_train, y_train)"
   ]
  },
  {
   "cell_type": "code",
   "execution_count": 41,
   "id": "843f7385-7cb9-456d-9bc1-69fabd10d8a3",
   "metadata": {},
   "outputs": [
    {
     "data": {
      "text/html": [
       "Waiting for W&B process to finish... <strong style=\"color:green\">(success).</strong>"
      ],
      "text/plain": [
       "<IPython.core.display.HTML object>"
      ]
     },
     "metadata": {},
     "output_type": "display_data"
    },
    {
     "data": {
      "application/vnd.jupyter.widget-view+json": {
       "model_id": "",
       "version_major": 2,
       "version_minor": 0
      },
      "text/plain": [
       "VBox(children=(Label(value='142.267 MB of 142.267 MB uploaded (0.000 MB deduped)\\r'), FloatProgress(value=1.0,…"
      ]
     },
     "metadata": {},
     "output_type": "display_data"
    },
    {
     "data": {
      "text/html": [
       "<style>\n",
       "    table.wandb td:nth-child(1) { padding: 0 10px; text-align: left ; width: auto;} td:nth-child(2) {text-align: left ; width: 100%}\n",
       "    .wandb-row { display: flex; flex-direction: row; flex-wrap: wrap; justify-content: flex-start; width: 100% }\n",
       "    .wandb-col { display: flex; flex-direction: column; flex-basis: 100%; flex: 1; padding: 10px; }\n",
       "    </style>\n",
       "<div class=\"wandb-row\"><div class=\"wandb-col\"><h3>Run history:</h3><br/><table class=\"wandb\"><tr><td>f1-score</td><td>▁</td></tr><tr><td>precision</td><td>▁</td></tr><tr><td>recall</td><td>▁</td></tr></table><br/></div><div class=\"wandb-col\"><h3>Run summary:</h3><br/><table class=\"wandb\"><tr><td>f1-score</td><td>0.81891</td></tr><tr><td>precision</td><td>0.82085</td></tr><tr><td>recall</td><td>0.82047</td></tr></table><br/></div></div>"
      ],
      "text/plain": [
       "<IPython.core.display.HTML object>"
      ]
     },
     "metadata": {},
     "output_type": "display_data"
    },
    {
     "data": {
      "text/html": [
       "Synced <strong style=\"color:#cdcd00\">LogisticRegression</strong>: <a href=\"https://wandb.ai/alokpadhi/stackoverflow-quality/runs/p0584gzs\" target=\"_blank\">https://wandb.ai/alokpadhi/stackoverflow-quality/runs/p0584gzs</a><br/>Synced 4 W&B file(s), 0 media file(s), 1 artifact file(s) and 0 other file(s)"
      ],
      "text/plain": [
       "<IPython.core.display.HTML object>"
      ]
     },
     "metadata": {},
     "output_type": "display_data"
    },
    {
     "data": {
      "text/html": [
       "Find logs at: <code>./wandb/run-20220627_142228-p0584gzs/logs</code>"
      ],
      "text/plain": [
       "<IPython.core.display.HTML object>"
      ]
     },
     "metadata": {},
     "output_type": "display_data"
    }
   ],
   "source": [
    "wandb.finish()"
   ]
  },
  {
   "cell_type": "code",
   "execution_count": 55,
   "id": "44188572-bca8-4d93-87c3-fceca6c54c9b",
   "metadata": {},
   "outputs": [],
   "source": [
    "# initialize model\n",
    "model = SGDClassifier(\n",
    "    loss=\"log\", penalty=\"l2\", alpha=1e-4, max_iter=1,\n",
    "    learning_rate=\"constant\", eta0=1e-1, power_t=0.1,\n",
    "    warm_start=True, early_stopping=True\n",
    ")"
   ]
  },
  {
   "cell_type": "code",
   "execution_count": 56,
   "id": "79ab4d86-79df-487e-bb89-9e0c7905929e",
   "metadata": {},
   "outputs": [],
   "source": [
    "config={\n",
    "    \"epochs\": 50,\n",
    "    \"loss\": \"log\",\n",
    "    \"penalty\": \"l2\",\n",
    "    \"alpha\": \"1e-4\"\n",
    "}"
   ]
  },
  {
   "cell_type": "code",
   "execution_count": 58,
   "id": "f64e708f-ee57-41d5-9d75-1d89524a5c8e",
   "metadata": {},
   "outputs": [],
   "source": [
    "wandb.finish()"
   ]
  },
  {
   "cell_type": "code",
   "execution_count": 59,
   "id": "a8cbc37d-a573-4460-a500-d344b7969611",
   "metadata": {},
   "outputs": [
    {
     "data": {
      "text/html": [
       "Tracking run with wandb version 0.12.19"
      ],
      "text/plain": [
       "<IPython.core.display.HTML object>"
      ]
     },
     "metadata": {},
     "output_type": "display_data"
    },
    {
     "data": {
      "text/html": [
       "Run data is saved locally in <code>/notebooks/stackoverflow/notebooks/modeling/wandb/run-20220627_144411-26t7o7aj</code>"
      ],
      "text/plain": [
       "<IPython.core.display.HTML object>"
      ]
     },
     "metadata": {},
     "output_type": "display_data"
    },
    {
     "data": {
      "text/html": [
       "Syncing run <strong><a href=\"https://wandb.ai/alokpadhi/stackoverflow-quality/runs/26t7o7aj\" target=\"_blank\">SGDClassifier</a></strong> to <a href=\"https://wandb.ai/alokpadhi/stackoverflow-quality\" target=\"_blank\">Weights & Biases</a> (<a href=\"https://wandb.me/run\" target=\"_blank\">docs</a>)<br/>"
      ],
      "text/plain": [
       "<IPython.core.display.HTML object>"
      ]
     },
     "metadata": {},
     "output_type": "display_data"
    }
   ],
   "source": [
    "sgd_model_run = wandb.init(project=\"stackoverflow-quality\", name=\"SGDClassifier\", config=config)"
   ]
  },
  {
   "cell_type": "code",
   "execution_count": 60,
   "id": "12b213c3-0b05-4a5b-ba3e-302f79ee1518",
   "metadata": {},
   "outputs": [
    {
     "name": "stdout",
     "output_type": "stream",
     "text": [
      "Epoch:  0 | train_loss:  0.72050, val_loss:  0.72988\n",
      "Epoch:  1 | train_loss:  0.65023, val_loss:  0.66909\n",
      "Epoch:  2 | train_loss:  0.61815, val_loss:  0.64384\n",
      "Epoch:  3 | train_loss:  0.60002, val_loss:  0.63021\n",
      "Epoch:  4 | train_loss:  0.58907, val_loss:  0.62303\n",
      "Epoch:  5 | train_loss:  0.58406, val_loss:  0.62034\n",
      "Epoch:  6 | train_loss:  0.58073, val_loss:  0.61893\n",
      "Epoch:  7 | train_loss:  0.57959, val_loss:  0.61842\n",
      "Epoch:  8 | train_loss:  0.57293, val_loss:  0.61316\n",
      "Epoch:  9 | train_loss:  0.57670, val_loss:  0.61702\n",
      "Epoch:  10 | train_loss:  0.57373, val_loss:  0.61491\n",
      "Epoch:  11 | train_loss:  0.57420, val_loss:  0.61556\n",
      "Epoch:  12 | train_loss:  0.57173, val_loss:  0.61393\n",
      "Epoch:  13 | train_loss:  0.57043, val_loss:  0.61316\n",
      "Epoch:  14 | train_loss:  0.57392, val_loss:  0.61548\n",
      "Epoch:  15 | train_loss:  0.57369, val_loss:  0.61526\n",
      "Epoch:  16 | train_loss:  0.57172, val_loss:  0.61365\n",
      "Epoch:  17 | train_loss:  0.57211, val_loss:  0.61436\n",
      "Epoch:  18 | train_loss:  0.57164, val_loss:  0.61348\n",
      "Epoch:  19 | train_loss:  0.56909, val_loss:  0.61171\n",
      "Epoch:  20 | train_loss:  0.56893, val_loss:  0.61151\n",
      "Epoch:  21 | train_loss:  0.57207, val_loss:  0.61436\n",
      "Epoch:  22 | train_loss:  0.57117, val_loss:  0.61326\n",
      "Epoch:  23 | train_loss:  0.57013, val_loss:  0.61241\n",
      "Epoch:  24 | train_loss:  0.57178, val_loss:  0.61400\n",
      "Epoch:  25 | train_loss:  0.57131, val_loss:  0.61364\n",
      "Epoch:  26 | train_loss:  0.57223, val_loss:  0.61455\n",
      "Epoch:  27 | train_loss:  0.57202, val_loss:  0.61433\n",
      "Epoch:  28 | train_loss:  0.57090, val_loss:  0.61355\n",
      "Epoch:  29 | train_loss:  0.56963, val_loss:  0.61274\n",
      "Epoch:  30 | train_loss:  0.57261, val_loss:  0.61458\n",
      "Epoch:  31 | train_loss:  0.57149, val_loss:  0.61396\n",
      "Epoch:  32 | train_loss:  0.57287, val_loss:  0.61510\n",
      "Epoch:  33 | train_loss:  0.56859, val_loss:  0.61176\n",
      "Epoch:  34 | train_loss:  0.57181, val_loss:  0.61409\n",
      "Epoch:  35 | train_loss:  0.57021, val_loss:  0.61246\n",
      "Epoch:  36 | train_loss:  0.57097, val_loss:  0.61314\n",
      "Epoch:  37 | train_loss:  0.57143, val_loss:  0.61326\n",
      "Epoch:  38 | train_loss:  0.57300, val_loss:  0.61546\n",
      "Epoch:  39 | train_loss:  0.57395, val_loss:  0.61611\n",
      "Epoch:  40 | train_loss:  0.56975, val_loss:  0.61256\n",
      "Epoch:  41 | train_loss:  0.57388, val_loss:  0.61578\n",
      "Epoch:  42 | train_loss:  0.57118, val_loss:  0.61366\n",
      "Epoch:  43 | train_loss:  0.56876, val_loss:  0.61151\n",
      "Epoch:  44 | train_loss:  0.57181, val_loss:  0.61401\n",
      "Epoch:  45 | train_loss:  0.57276, val_loss:  0.61500\n",
      "Epoch:  46 | train_loss:  0.56779, val_loss:  0.61087\n",
      "Epoch:  47 | train_loss:  0.57019, val_loss:  0.61278\n",
      "Epoch:  48 | train_loss:  0.56962, val_loss:  0.61234\n",
      "Epoch:  49 | train_loss:  0.57057, val_loss:  0.61291\n"
     ]
    }
   ],
   "source": [
    "num_epochs = 50\n",
    "for epoch in range(num_epochs):\n",
    "    model.fit(X_train, y_train)\n",
    "    \n",
    "    y_train_pred = model.predict_proba(X_train)\n",
    "    train_loss = log_loss(y_train, y_train_pred)\n",
    "    \n",
    "    y_val_pred = model.predict_proba(X_val)\n",
    "    val_loss = log_loss(y_val, y_val_pred)\n",
    "    \n",
    "    wandb.log({\"train_loss\": train_loss})\n",
    "    wandb.log({\"valid_loss\": val_loss})\n",
    "    \n",
    "    print(\n",
    "        f\"Epoch: {epoch: 02d} | \"\n",
    "        f\"train_loss: {train_loss: .5f}, \"\n",
    "        f\"val_loss: {val_loss: .5f}\")"
   ]
  },
  {
   "cell_type": "code",
   "execution_count": 61,
   "id": "0a178bf9-1ac4-4c3c-8690-b953196ae8c8",
   "metadata": {},
   "outputs": [
    {
     "name": "stdout",
     "output_type": "stream",
     "text": [
      "{\n",
      "  \"precision\": 0.7984095150014032,\n",
      "  \"recall\": 0.7935120722855873,\n",
      "  \"f1\": 0.7897254458048573\n",
      "}\n"
     ]
    }
   ],
   "source": [
    "y_pred = model.predict(X_test)\n",
    "y_pred_proba = model.predict_proba(X_test)\n",
    "metrics = precision_recall_fscore_support(y_test, y_pred, average=\"weighted\")\n",
    "performance = {\"precision\": metrics[0], \"recall\": metrics[1], \"f1\": metrics[2]}\n",
    "print(json.dumps(performance, indent=2))"
   ]
  },
  {
   "cell_type": "code",
   "execution_count": 62,
   "id": "da25fe86-33b3-42b6-b6a5-25330faefa83",
   "metadata": {},
   "outputs": [],
   "source": [
    "sgd_model_run.log({\"precision\": performance[\"precision\"], \"recall\": performance[\"recall\"], \"f1-score\": performance[\"f1\"]})"
   ]
  },
  {
   "cell_type": "code",
   "execution_count": 63,
   "id": "539eb8fe-19b3-4fc2-8f15-5211f24becc4",
   "metadata": {},
   "outputs": [],
   "source": [
    "with open(\"../../model-artifacts/sgd.pkl\", \"wb\") as fp:\n",
    "    pickle.dump(model, fp)"
   ]
  },
  {
   "cell_type": "code",
   "execution_count": 64,
   "id": "c8666a84-288c-4ea5-9b41-0af54b86ce46",
   "metadata": {},
   "outputs": [
    {
     "data": {
      "text/plain": [
       "<wandb.sdk.wandb_artifacts.Artifact at 0x7fb7595be280>"
      ]
     },
     "execution_count": 64,
     "metadata": {},
     "output_type": "execute_result"
    }
   ],
   "source": [
    "# model versioning\n",
    "model_art = wandb.Artifact(f\"{wandb.run.name}_{wandb.run.id}\", type=\"model\", metadata=config)\n",
    "model_art.add_file('../../model-artifacts/sgd.pkl')\n",
    "sgd_model_run.log_artifact(model_art)"
   ]
  },
  {
   "cell_type": "code",
   "execution_count": 73,
   "id": "199451a4-8abd-441b-bd45-f34e520b2eb6",
   "metadata": {},
   "outputs": [
    {
     "data": {
      "text/html": [
       "Waiting for W&B process to finish... <strong style=\"color:green\">(success).</strong>"
      ],
      "text/plain": [
       "<IPython.core.display.HTML object>"
      ]
     },
     "metadata": {},
     "output_type": "display_data"
    },
    {
     "data": {
      "application/vnd.jupyter.widget-view+json": {
       "model_id": "",
       "version_major": 2,
       "version_minor": 0
      },
      "text/plain": [
       "VBox(children=(Label(value='179.238 MB of 179.238 MB uploaded (0.000 MB deduped)\\r'), FloatProgress(value=1.0,…"
      ]
     },
     "metadata": {},
     "output_type": "display_data"
    },
    {
     "data": {
      "text/html": [
       "Synced <strong style=\"color:#cdcd00\">TFIDFVectorizer</strong>: <a href=\"https://wandb.ai/alokpadhi/stackoverflow-quality/runs/2vhf17ru\" target=\"_blank\">https://wandb.ai/alokpadhi/stackoverflow-quality/runs/2vhf17ru</a><br/>Synced 4 W&B file(s), 0 media file(s), 1 artifact file(s) and 0 other file(s)"
      ],
      "text/plain": [
       "<IPython.core.display.HTML object>"
      ]
     },
     "metadata": {},
     "output_type": "display_data"
    },
    {
     "data": {
      "text/html": [
       "Find logs at: <code>./wandb/run-20220627_145740-2vhf17ru/logs</code>"
      ],
      "text/plain": [
       "<IPython.core.display.HTML object>"
      ]
     },
     "metadata": {},
     "output_type": "display_data"
    }
   ],
   "source": [
    "wandb.finish()"
   ]
  },
  {
   "cell_type": "code",
   "execution_count": null,
   "id": "476df60a-d08a-418d-bfbc-3edef7a669bc",
   "metadata": {},
   "outputs": [],
   "source": []
  }
 ],
 "metadata": {
  "kernelspec": {
   "display_name": "Python 3 (ipykernel)",
   "language": "python",
   "name": "python3"
  },
  "language_info": {
   "codemirror_mode": {
    "name": "ipython",
    "version": 3
   },
   "file_extension": ".py",
   "mimetype": "text/x-python",
   "name": "python",
   "nbconvert_exporter": "python",
   "pygments_lexer": "ipython3",
   "version": "3.8.12"
  }
 },
 "nbformat": 4,
 "nbformat_minor": 5
}
